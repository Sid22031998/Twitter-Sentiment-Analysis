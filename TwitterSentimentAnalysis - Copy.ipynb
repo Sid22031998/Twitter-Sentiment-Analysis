{
 "cells": [
  {
   "cell_type": "markdown",
   "metadata": {},
   "source": [
    "Twitter Sentiment Analysis\n",
    "===================\n",
    "\n",
    "In this project, I would like to focus on **Sentiment Analysis** in a well studied context which is Twitter. Twitter is the most known microblogging website in the world and allow anyone to express its thoughts, opinions, and more, in 140 caracters. Due to the length limit of tweets and the time it takes to send one, tweets tend to reflect what people feel in real time.  \n",
    "\n",
    "The goal of this project is to be able to **classify if a given tweet is either positive or negative**.\n",
    "\n",
    "**Dataset**\n",
    "\n",
    "The dataset contains **1578612 tweets** coming from two sources: Kaggle and Sentiment140. There are four columns that are ItemID, Sentiment, SentimentSource and SentimentText. The Sentiment column correspond to our label class taking a binary value, **0 if the tweet is negative, 1 if the tweet is positive**.  \n",
    "Tweets have their own terminology which the following (from twitter glossary):  \n",
    "- **Hashtag**: A hashtag is any word or phrase immediately preceded by the # symbol. When you click on a hashtag, you’ll see other Tweets containing the same keyword or topic.\n",
    "- **@username**: A username is how you’re identified on Twitter, and is always preceded immediately by the @ symbol. For instance, Katy Perry is @katyperry.\n",
    "- **MT**: Similar to RT (Retweet), an abbreviation for “Modified Tweet.” Placed before the Retweeted text when users manually retweet a message with modifications, for example shortening a Tweet.\n",
    "- **Retweet**: RT, A Tweet that you forward to your followers is known as a Retweet. Often used to pass along news or other valuable discoveries on Twitter, Retweets always retain original attribution.\n",
    "- **Emoticons**: Composed using punctuation and letters, they are used to express emotions concisely, \";) :) ...\"\n",
    "\n",
    "Furthermore, a tweet can also contain **acronyms** (\"OMG, WTF, ...\") as well as **spelling mistakes**.  \n",
    "All the **tweets are in english** for simplicity but we can imagine to apply the same concept for other languages.\n",
    "\n",
    "**Importing The Dataset**\n"
   ]
  },
  {
   "cell_type": "code",
   "execution_count": 131,
   "metadata": {},
   "outputs": [
    {
     "data": {
      "text/html": [
       "<div style=\"max-height:1000px;max-width:1500px;overflow:auto;\">\n",
       "<table border=\"1\" class=\"dataframe\">\n",
       "  <thead>\n",
       "    <tr style=\"text-align: right;\">\n",
       "      <th></th>\n",
       "      <th>ItemID</th>\n",
       "      <th>Sentiment</th>\n",
       "      <th>SentimentSource</th>\n",
       "      <th>SentimentText</th>\n",
       "    </tr>\n",
       "  </thead>\n",
       "  <tbody>\n",
       "    <tr>\n",
       "      <th>0</th>\n",
       "      <td>1</td>\n",
       "      <td>0</td>\n",
       "      <td>Sentiment140</td>\n",
       "      <td>is so sad for my APL friend.............</td>\n",
       "    </tr>\n",
       "    <tr>\n",
       "      <th>1</th>\n",
       "      <td>2</td>\n",
       "      <td>0</td>\n",
       "      <td>Sentiment140</td>\n",
       "      <td>I missed the New Moon trailer...</td>\n",
       "    </tr>\n",
       "    <tr>\n",
       "      <th>2</th>\n",
       "      <td>3</td>\n",
       "      <td>1</td>\n",
       "      <td>Sentiment140</td>\n",
       "      <td>omg its already 7:30 :O</td>\n",
       "    </tr>\n",
       "    <tr>\n",
       "      <th>3</th>\n",
       "      <td>4</td>\n",
       "      <td>0</td>\n",
       "      <td>Sentiment140</td>\n",
       "      <td>.. Omgaga. Im sooo  im gunna CRy. I've been at this dentist since 11.. I was suposed 2 just get a crown put on (30mins)...</td>\n",
       "    </tr>\n",
       "    <tr>\n",
       "      <th>4</th>\n",
       "      <td>5</td>\n",
       "      <td>0</td>\n",
       "      <td>Sentiment140</td>\n",
       "      <td>i think mi bf is cheating on me!!!       T_T</td>\n",
       "    </tr>\n",
       "    <tr>\n",
       "      <th>5</th>\n",
       "      <td>6</td>\n",
       "      <td>0</td>\n",
       "      <td>Sentiment140</td>\n",
       "      <td>or i just worry too much?</td>\n",
       "    </tr>\n",
       "    <tr>\n",
       "      <th>6</th>\n",
       "      <td>7</td>\n",
       "      <td>1</td>\n",
       "      <td>Sentiment140</td>\n",
       "      <td>Juuuuuuuuuuuuuuuuussssst Chillin!!</td>\n",
       "    </tr>\n",
       "    <tr>\n",
       "      <th>7</th>\n",
       "      <td>8</td>\n",
       "      <td>0</td>\n",
       "      <td>Sentiment140</td>\n",
       "      <td>Sunny Again        Work Tomorrow  :-|       TV Tonight</td>\n",
       "    </tr>\n",
       "    <tr>\n",
       "      <th>8</th>\n",
       "      <td>9</td>\n",
       "      <td>1</td>\n",
       "      <td>Sentiment140</td>\n",
       "      <td>handed in my uniform today . i miss you already</td>\n",
       "    </tr>\n",
       "    <tr>\n",
       "      <th>9</th>\n",
       "      <td>10</td>\n",
       "      <td>1</td>\n",
       "      <td>Sentiment140</td>\n",
       "      <td>hmmmm.... i wonder how she my number @-)</td>\n",
       "    </tr>\n",
       "  </tbody>\n",
       "</table>\n",
       "</div>"
      ],
      "text/plain": [
       "   ItemID  Sentiment SentimentSource  \\\n",
       "0       1          0    Sentiment140   \n",
       "1       2          0    Sentiment140   \n",
       "2       3          1    Sentiment140   \n",
       "3       4          0    Sentiment140   \n",
       "4       5          0    Sentiment140   \n",
       "5       6          0    Sentiment140   \n",
       "6       7          1    Sentiment140   \n",
       "7       8          0    Sentiment140   \n",
       "8       9          1    Sentiment140   \n",
       "9      10          1    Sentiment140   \n",
       "\n",
       "                                                                                                                          SentimentText  \n",
       "0                                                                                              is so sad for my APL friend.............  \n",
       "1                                                                                                      I missed the New Moon trailer...  \n",
       "2                                                                                                               omg its already 7:30 :O  \n",
       "3            .. Omgaga. Im sooo  im gunna CRy. I've been at this dentist since 11.. I was suposed 2 just get a crown put on (30mins)...  \n",
       "4                                                                                          i think mi bf is cheating on me!!!       T_T  \n",
       "5                                                                                                     or i just worry too much?          \n",
       "6                                                                                                    Juuuuuuuuuuuuuuuuussssst Chillin!!  \n",
       "7                                                                                Sunny Again        Work Tomorrow  :-|       TV Tonight  \n",
       "8                                                                                       handed in my uniform today . i miss you already  \n",
       "9                                                                                              hmmmm.... i wonder how she my number @-)  "
      ]
     },
     "execution_count": 131,
     "metadata": {},
     "output_type": "execute_result"
    }
   ],
   "source": [
    "# Import libraries that we are going to use in the project\n",
    "\n",
    "import pandas as pd\n",
    "import numpy as np\n",
    "import matplotlib.pyplot as plt\n",
    "import matplotlib.cm as cm\n",
    "\n",
    "# Load our dataset excluding bad lines (format problem)\n",
    "# The dataset has been cut into three parts to be uploaded on Github\n",
    "data_1 = pd.read_csv('data/data_1.csv', error_bad_lines=False)\n",
    "data_2 = pd.read_csv('data/data_2.csv', error_bad_lines=False)\n",
    "data_3 = pd.read_csv('data/data_3.csv', error_bad_lines=False)\n",
    "data = pd.concat([data_1, data_2, data_3], axis=0)\n",
    "\n",
    "# Reindex the data frame and drop the column added by the reset_index function\n",
    "data.reset_index(drop=True, inplace=True)\n",
    "\n",
    "# Set max_colwidth to 140 in order to fully see the tweet\n",
    "pd.set_option('max_colwidth', 140)\n",
    "\n",
    "# Display the first 10 rows\n",
    "data.head(10)"
   ]
  },
  {
   "cell_type": "markdown",
   "metadata": {},
   "source": [
    "**From the above dataset we can clearly see the use of(which is of no use in determining the sentiment of a tweet):**  \n",
    "- acronyms\n",
    "- sequences of repeated characters\n",
    "- emoticons\n",
    "- spelling mistakes\n",
    "- nouns  \n",
    "\n",
    "Let's see if our dataset is balanced about the label class sentiment."
   ]
  },
  {
   "cell_type": "code",
   "execution_count": 2,
   "metadata": {},
   "outputs": [
    {
     "data": {
      "text/plain": [
       "<matplotlib.legend.Legend at 0x124fe8e50>"
      ]
     },
     "execution_count": 2,
     "metadata": {},
     "output_type": "execute_result"
    },
    {
     "data": {
      "image/png": "[encoded data removed]",
      "text/plain": [
       "<matplotlib.figure.Figure at 0x124fe8e10>"
      ]
     },
     "metadata": {},
     "output_type": "display_data"
    }
   ],
   "source": [
    "plt.close()\n",
    "fig, ax = plt.subplots()\n",
    "counts, bins, patches = ax.hist(data.Sentiment.as_matrix(), edgecolor='gray')\n",
    "\n",
    "# Set plot title\n",
    "ax.set_title(\"Histogram of Sentiments\")\n",
    "\n",
    "# Set x-axis name\n",
    "ax.set_xlabel(\"Sentiment\")\n",
    "\n",
    "# Set y-axis name\n",
    "ax.set_ylabel(\"Frequecy\")\n",
    "\n",
    "# Select the first patch (a rectangle, object of class matplotlib.patches.Patch)\n",
    "# corresponding to negative sentiment and color it\n",
    "patches[0].set_facecolor(\"#5d4037\")\n",
    "patches[0].set_label(\"negative\")\n",
    "\n",
    "# Same for the positive sentiment but in another color.\n",
    "patches[-1].set_facecolor(\"#ff9100\")\n",
    "patches[-1].set_label(\"positive\")\n",
    "\n",
    "# Add legend to a plot     \n",
    "plt.legend()"
   ]
  },
  {
   "cell_type": "markdown",
   "metadata": {},
   "source": [
    "The dataset seems to be really well-balanced between negative and positive sentiment, let's confirm that by displying numeric values,"
   ]
  },
  {
   "cell_type": "code",
   "execution_count": 3,
   "metadata": {},
   "outputs": [
    {
     "data": {
      "text/plain": [
       "1    790177\n",
       "0    788435\n",
       "dtype: int64"
      ]
     },
     "execution_count": 3,
     "metadata": {},
     "output_type": "execute_result"
    }
   ],
   "source": [
    "data.Sentiment.value_counts()"
   ]
  },
  {
   "cell_type": "markdown",
   "metadata": {},
   "source": [
    "It is important to **check if we have duplicates** in tweets which is something that arise very often because of the RT (Retweet),"
   ]
  },
  {
   "cell_type": "code",
   "execution_count": 4,
   "metadata": {},
   "outputs": [
    {
     "data": {
      "text/plain": [
       "0"
      ]
     },
     "execution_count": 4,
     "metadata": {},
     "output_type": "execute_result"
    }
   ],
   "source": [
    "# Show duplicated tweets if exist\n",
    "len(data[data.duplicated('SentimentText')])"
   ]
  },
  {
   "cell_type": "code",
   "execution_count": 5,
   "metadata": {},
   "outputs": [
    {
     "data": {
      "text/plain": [
       "13"
      ]
     },
     "execution_count": 5,
     "metadata": {},
     "output_type": "execute_result"
    }
   ],
   "source": [
    "# Display the number of RT\n",
    "len(data.SentimentText[data.SentimentText.str.extract('(RT)').notnull()])"
   ]
  },
  {
   "cell_type": "markdown",
   "metadata": {},
   "source": [
    "We are lucky because although there are retweets in our dataset, there is no duplicate which is a good thing when we are going to train our classifier.  \n",
    "\n",
    "Resources\n",
    "-------------\n",
    "In order to facilitate the preproccessing part we have added five resources to the project :\n",
    "- An **emoticon dictionary** regrouping 132 of the most used emoticons in western with their sentiment, negative or positive.\n",
    "- An **acronym dictionary** of 5465 acronyms with their translation.\n",
    "- A **stop word dictionary** corresponding to words which are filtered out before or after processing of natural language data because they are not useful in our case.\n",
    "- A **positive and negative word dictionaries**.\n",
    "- A **negative contractions and auxiliaries dictionary** which will be used to detect negation in a given tweet\n"
   ]
  },
  {
   "cell_type": "code",
   "execution_count": 6,
   "metadata": {},
   "outputs": [
    {
     "data": {
      "text/html": [
       "<div style=\"max-height:1000px;max-width:1500px;overflow:auto;\">\n",
       "<table border=\"1\" class=\"dataframe\">\n",
       "  <thead>\n",
       "    <tr style=\"text-align: right;\">\n",
       "      <th></th>\n",
       "      <th>Smiley</th>\n",
       "      <th>Sentiment</th>\n",
       "    </tr>\n",
       "  </thead>\n",
       "  <tbody>\n",
       "    <tr>\n",
       "      <th>0</th>\n",
       "      <td>:-)</td>\n",
       "      <td>1</td>\n",
       "    </tr>\n",
       "    <tr>\n",
       "      <th>1</th>\n",
       "      <td>:)</td>\n",
       "      <td>1</td>\n",
       "    </tr>\n",
       "    <tr>\n",
       "      <th>2</th>\n",
       "      <td>:D</td>\n",
       "      <td>1</td>\n",
       "    </tr>\n",
       "    <tr>\n",
       "      <th>3</th>\n",
       "      <td>:o)</td>\n",
       "      <td>1</td>\n",
       "    </tr>\n",
       "    <tr>\n",
       "      <th>4</th>\n",
       "      <td>:]</td>\n",
       "      <td>1</td>\n",
       "    </tr>\n",
       "  </tbody>\n",
       "</table>\n",
       "</div>"
      ],
      "text/plain": [
       "  Smiley  Sentiment\n",
       "0    :-)          1\n",
       "1     :)          1\n",
       "2     :D          1\n",
       "3    :o)          1\n",
       "4     :]          1"
      ]
     },
     "execution_count": 6,
     "metadata": {},
     "output_type": "execute_result"
    }
   ],
   "source": [
    "# Load all of the resources\n",
    "emoticons = pd.read_csv('data/smileys.csv')\n",
    "positive_emoticons = emoticons[emoticons.Sentiment == 1]\n",
    "negative_emoticons = emoticons[emoticons.Sentiment == 0]\n",
    "emoticons.head(5)"
   ]
  },
  {
   "cell_type": "code",
   "execution_count": 7,
   "metadata": {},
   "outputs": [
    {
     "data": {
      "text/html": [
       "<div style=\"max-height:1000px;max-width:1500px;overflow:auto;\">\n",
       "<table border=\"1\" class=\"dataframe\">\n",
       "  <thead>\n",
       "    <tr style=\"text-align: right;\">\n",
       "      <th></th>\n",
       "      <th>Acronym</th>\n",
       "      <th>Translation</th>\n",
       "    </tr>\n",
       "  </thead>\n",
       "  <tbody>\n",
       "    <tr>\n",
       "      <th>5459</th>\n",
       "      <td>tomoz</td>\n",
       "      <td>tomorrow</td>\n",
       "    </tr>\n",
       "    <tr>\n",
       "      <th>5460</th>\n",
       "      <td>gpytfaht</td>\n",
       "      <td>gladly pay you tuesday for a hamburger today</td>\n",
       "    </tr>\n",
       "    <tr>\n",
       "      <th>5461</th>\n",
       "      <td>l8rz</td>\n",
       "      <td>later</td>\n",
       "    </tr>\n",
       "    <tr>\n",
       "      <th>5462</th>\n",
       "      <td>sase</td>\n",
       "      <td>self addressed stamped envelope</td>\n",
       "    </tr>\n",
       "    <tr>\n",
       "      <th>5463</th>\n",
       "      <td>bwoc</td>\n",
       "      <td>big woman on campus</td>\n",
       "    </tr>\n",
       "  </tbody>\n",
       "</table>\n",
       "</div>"
      ],
      "text/plain": [
       "       Acronym                                   Translation\n",
       "5459     tomoz                                      tomorrow\n",
       "5460  gpytfaht  gladly pay you tuesday for a hamburger today\n",
       "5461      l8rz                                         later\n",
       "5462      sase               self addressed stamped envelope\n",
       "5463      bwoc                           big woman on campus"
      ]
     },
     "execution_count": 7,
     "metadata": {},
     "output_type": "execute_result"
    }
   ],
   "source": [
    "acronyms = pd.read_csv('data/acronyms.csv')\n",
    "acronyms.tail(5)"
   ]
  },
  {
   "cell_type": "code",
   "execution_count": 8,
   "metadata": {},
   "outputs": [
    {
     "data": {
      "text/html": [
       "<div style=\"max-height:1000px;max-width:1500px;overflow:auto;\">\n",
       "<table border=\"1\" class=\"dataframe\">\n",
       "  <thead>\n",
       "    <tr style=\"text-align: right;\">\n",
       "      <th></th>\n",
       "      <th>Word</th>\n",
       "    </tr>\n",
       "  </thead>\n",
       "  <tbody>\n",
       "    <tr>\n",
       "      <th>0</th>\n",
       "      <td>able</td>\n",
       "    </tr>\n",
       "    <tr>\n",
       "      <th>1</th>\n",
       "      <td>about</td>\n",
       "    </tr>\n",
       "    <tr>\n",
       "      <th>2</th>\n",
       "      <td>above</td>\n",
       "    </tr>\n",
       "    <tr>\n",
       "      <th>3</th>\n",
       "      <td>abroad</td>\n",
       "    </tr>\n",
       "    <tr>\n",
       "      <th>4</th>\n",
       "      <td>according</td>\n",
       "    </tr>\n",
       "  </tbody>\n",
       "</table>\n",
       "</div>"
      ],
      "text/plain": [
       "        Word\n",
       "0       able\n",
       "1      about\n",
       "2      above\n",
       "3     abroad\n",
       "4  according"
      ]
     },
     "execution_count": 8,
     "metadata": {},
     "output_type": "execute_result"
    }
   ],
   "source": [
    "stops = pd.read_csv('data/stopwords.csv')\n",
    "stops.columns = ['Word']\n",
    "stops.head(5)"
   ]
  },
  {
   "cell_type": "markdown",
   "metadata": {},
   "source": [
    "The resources showed above are mainly used only for the preprocessing part. Another resource that we are going to use is a **lexicon** which corresponds to a list of words where each word is associated with its **polarity**, positive or negative.  \n",
    "The lexicon is divided into two distinct files, one for positive words, containing **2005 entries** and the other for negative words containing **4782 entries**."
   ]
  },
  {
   "cell_type": "code",
   "execution_count": 9,
   "metadata": {},
   "outputs": [
    {
     "data": {
      "text/html": [
       "<div style=\"max-height:1000px;max-width:1500px;overflow:auto;\">\n",
       "<table border=\"1\" class=\"dataframe\">\n",
       "  <thead>\n",
       "    <tr style=\"text-align: right;\">\n",
       "      <th></th>\n",
       "      <th>Word</th>\n",
       "      <th>Sentiment</th>\n",
       "    </tr>\n",
       "  </thead>\n",
       "  <tbody>\n",
       "    <tr>\n",
       "      <th>0</th>\n",
       "      <td>abound</td>\n",
       "      <td>1</td>\n",
       "    </tr>\n",
       "    <tr>\n",
       "      <th>1</th>\n",
       "      <td>abounds</td>\n",
       "      <td>1</td>\n",
       "    </tr>\n",
       "    <tr>\n",
       "      <th>2</th>\n",
       "      <td>abundance</td>\n",
       "      <td>1</td>\n",
       "    </tr>\n",
       "    <tr>\n",
       "      <th>3</th>\n",
       "      <td>abundant</td>\n",
       "      <td>1</td>\n",
       "    </tr>\n",
       "    <tr>\n",
       "      <th>4</th>\n",
       "      <td>accessable</td>\n",
       "      <td>1</td>\n",
       "    </tr>\n",
       "  </tbody>\n",
       "</table>\n",
       "</div>"
      ],
      "text/plain": [
       "         Word  Sentiment\n",
       "0      abound          1\n",
       "1     abounds          1\n",
       "2   abundance          1\n",
       "3    abundant          1\n",
       "4  accessable          1"
      ]
     },
     "execution_count": 9,
     "metadata": {},
     "output_type": "execute_result"
    }
   ],
   "source": [
    "positive_words = pd.read_csv('data/positive-words.csv', sep='\\t')\n",
    "positive_words.columns = ['Word', 'Sentiment']\n",
    "negative_words = pd.read_csv('data/negative-words.csv', sep='\\t')\n",
    "negative_words.columns = ['Word', 'Sentiment']\n",
    "positive_words.head(5)"
   ]
  },
  {
   "cell_type": "code",
   "execution_count": 10,
   "metadata": {},
   "outputs": [
    {
     "data": {
      "text/html": [
       "<div style=\"max-height:1000px;max-width:1500px;overflow:auto;\">\n",
       "<table border=\"1\" class=\"dataframe\">\n",
       "  <thead>\n",
       "    <tr style=\"text-align: right;\">\n",
       "      <th></th>\n",
       "      <th>Word</th>\n",
       "      <th>Sentiment</th>\n",
       "    </tr>\n",
       "  </thead>\n",
       "  <tbody>\n",
       "    <tr>\n",
       "      <th>0</th>\n",
       "      <td>2-faces</td>\n",
       "      <td>0</td>\n",
       "    </tr>\n",
       "    <tr>\n",
       "      <th>1</th>\n",
       "      <td>abnormal</td>\n",
       "      <td>0</td>\n",
       "    </tr>\n",
       "    <tr>\n",
       "      <th>2</th>\n",
       "      <td>abolish</td>\n",
       "      <td>0</td>\n",
       "    </tr>\n",
       "    <tr>\n",
       "      <th>3</th>\n",
       "      <td>abominable</td>\n",
       "      <td>0</td>\n",
       "    </tr>\n",
       "    <tr>\n",
       "      <th>4</th>\n",
       "      <td>abominably</td>\n",
       "      <td>0</td>\n",
       "    </tr>\n",
       "  </tbody>\n",
       "</table>\n",
       "</div>"
      ],
      "text/plain": [
       "         Word  Sentiment\n",
       "0     2-faces          0\n",
       "1    abnormal          0\n",
       "2     abolish          0\n",
       "3  abominable          0\n",
       "4  abominably          0"
      ]
     },
     "execution_count": 10,
     "metadata": {},
     "output_type": "execute_result"
    }
   ],
   "source": [
    "negative_words.head(5)"
   ]
  },
  {
   "cell_type": "code",
   "execution_count": 110,
   "metadata": {},
   "outputs": [
    {
     "data": {
      "text/html": [
       "<div style=\"max-height:1000px;max-width:1500px;overflow:auto;\">\n",
       "<table border=\"1\" class=\"dataframe\">\n",
       "  <thead>\n",
       "    <tr style=\"text-align: right;\">\n",
       "      <th></th>\n",
       "      <th>Negation</th>\n",
       "      <th>Tag</th>\n",
       "    </tr>\n",
       "  </thead>\n",
       "  <tbody>\n",
       "    <tr>\n",
       "      <th>0</th>\n",
       "      <td>not</td>\n",
       "      <td>||not||</td>\n",
       "    </tr>\n",
       "    <tr>\n",
       "      <th>1</th>\n",
       "      <td>don't</td>\n",
       "      <td>||not||</td>\n",
       "    </tr>\n",
       "    <tr>\n",
       "      <th>2</th>\n",
       "      <td>doesn't</td>\n",
       "      <td>||not||</td>\n",
       "    </tr>\n",
       "    <tr>\n",
       "      <th>3</th>\n",
       "      <td>aren't</td>\n",
       "      <td>||not||</td>\n",
       "    </tr>\n",
       "    <tr>\n",
       "      <th>4</th>\n",
       "      <td>isn't</td>\n",
       "      <td>||not||</td>\n",
       "    </tr>\n",
       "  </tbody>\n",
       "</table>\n",
       "</div>"
      ],
      "text/plain": [
       "  Negation      Tag\n",
       "0      not  ||not||\n",
       "1    don't  ||not||\n",
       "2  doesn't  ||not||\n",
       "3   aren't  ||not||\n",
       "4    isn't  ||not||"
      ]
     },
     "execution_count": 110,
     "metadata": {},
     "output_type": "execute_result"
    }
   ],
   "source": [
    "negation_words = pd.read_csv('data/negation.csv')\n",
    "negation_words.head(5)"
   ]
  },
  {
   "cell_type": "markdown",
   "metadata": {},
   "source": [
    "Preprocessing\n",
    "-------------\n",
    "One of the most important parts that is going to be crucial for the learning part is the preprocessing of the data.\n",
    "\n",
    "To do this we are going to pass our data through these different steps:\n",
    "- Replace all emoticons by their sentiment polarity ||pos||/||neg|| using the emoticon dictionary.\n",
    "- Replace all URLs with a tag ||url||.\n",
    "- Remove Unicode characters.\n",
    "- Decode HTML entities.\n",
    "- Reduce all letters to lowercase (We should take care of proper nouns but for simplicity we will lower them as well) (After emoticons because they can use upper case letters)\n",
    "- Replace all usernames/targets @ with ||target||.\n",
    "- Replace all acronyms with their translation.\n",
    "- Replace all negations (e.g: not, no, never) by tag ||not||.\n",
    "- Replace a sequence of repeated characters by two characters (e.g: \"helloooo\" = \"helloo\") to keep the emphasized usage of the word.\n",
    "\n",
    "#### 1) Replace all emoticons\n",
    "To replace all emoticons by their corresponding polarity tags ||pos||/||neg|| we use the emoticon dictionary with a regex and check  each tweet if it contains an emoticon."
   ]
  },
  {
   "cell_type": "code",
   "execution_count": 12,
   "metadata": {},
   "outputs": [
    {
     "name": "stdout",
     "output_type": "stream",
     "text": [
      "Number of positive emoticons: 19469 Number of negative emoticons: 11025\n"
     ]
    }
   ],
   "source": [
    "import re\n",
    "\n",
    "def make_emoticon_pattern(emoticons):\n",
    "    pattern = \"|\".join(map(re.escape, emoticons.Smiley))\n",
    "    pattern = \"(?<=\\s)(\" + pattern + \")(?=\\s)\"\n",
    "    return pattern\n",
    "\n",
    "def find_with_pattern(pattern, replace=False, tag=None):\n",
    "    if replace and tag == None:\n",
    "        raise Exception(\"Parameter error\", \"If replace=True you should add the tag by which the pattern will be replaced\")\n",
    "    regex = re.compile(pattern)\n",
    "    if replace:\n",
    "        return data.SentimentText.apply(lambda tweet: re.sub(pattern, tag, \" \" + tweet + \" \"))\n",
    "    return data.SentimentText.apply(lambda tweet: re.findall(pattern, \" \" + tweet + \" \"))\n",
    "\n",
    "pos_emoticons_found = find_with_pattern(make_emoticon_pattern(positive_emoticons))\n",
    "neg_emoticons_found = find_with_pattern(make_emoticon_pattern(negative_emoticons))\n",
    "\n",
    "nb_pos_emoticons = len(pos_emoticons_found[pos_emoticons_found.map(lambda emoticons : len(emoticons) > 0)])\n",
    "nb_neg_emoticons = len(neg_emoticons_found[neg_emoticons_found.map(lambda emoticons : len(emoticons) > 0)])\n",
    "print \"Number of positive emoticons: \" + str(nb_pos_emoticons) + \" Number of negative emoticons: \" + str(nb_neg_emoticons)"
   ]
  },
  {
   "cell_type": "code",
   "execution_count": 132,
   "metadata": {},
   "outputs": [
    {
     "data": {
      "text/html": [
       "<div style=\"max-height:1000px;max-width:1500px;overflow:auto;\">\n",
       "<table border=\"1\" class=\"dataframe\">\n",
       "  <thead>\n",
       "    <tr style=\"text-align: right;\">\n",
       "      <th></th>\n",
       "      <th>ItemID</th>\n",
       "      <th>Sentiment</th>\n",
       "      <th>SentimentSource</th>\n",
       "      <th>SentimentText</th>\n",
       "    </tr>\n",
       "  </thead>\n",
       "  <tbody>\n",
       "    <tr>\n",
       "      <th>0</th>\n",
       "      <td>1</td>\n",
       "      <td>0</td>\n",
       "      <td>Sentiment140</td>\n",
       "      <td>is so sad for my APL friend.............</td>\n",
       "    </tr>\n",
       "    <tr>\n",
       "      <th>1</th>\n",
       "      <td>2</td>\n",
       "      <td>0</td>\n",
       "      <td>Sentiment140</td>\n",
       "      <td>I missed the New Moon trailer...</td>\n",
       "    </tr>\n",
       "    <tr>\n",
       "      <th>2</th>\n",
       "      <td>3</td>\n",
       "      <td>1</td>\n",
       "      <td>Sentiment140</td>\n",
       "      <td>omg its already 7:30 ||pos||</td>\n",
       "    </tr>\n",
       "    <tr>\n",
       "      <th>3</th>\n",
       "      <td>4</td>\n",
       "      <td>0</td>\n",
       "      <td>Sentiment140</td>\n",
       "      <td>.. Omgaga. Im sooo  im gunna CRy. I've been at this dentist since 11.. I was suposed 2 just get a crown put on (30mins)...</td>\n",
       "    </tr>\n",
       "    <tr>\n",
       "      <th>4</th>\n",
       "      <td>5</td>\n",
       "      <td>0</td>\n",
       "      <td>Sentiment140</td>\n",
       "      <td>i think mi bf is cheating on me!!!       ||neg||</td>\n",
       "    </tr>\n",
       "    <tr>\n",
       "      <th>5</th>\n",
       "      <td>6</td>\n",
       "      <td>0</td>\n",
       "      <td>Sentiment140</td>\n",
       "      <td>or i just worry too much?</td>\n",
       "    </tr>\n",
       "    <tr>\n",
       "      <th>6</th>\n",
       "      <td>7</td>\n",
       "      <td>1</td>\n",
       "      <td>Sentiment140</td>\n",
       "      <td>Juuuuuuuuuuuuuuuuussssst Chillin!!</td>\n",
       "    </tr>\n",
       "    <tr>\n",
       "      <th>7</th>\n",
       "      <td>8</td>\n",
       "      <td>0</td>\n",
       "      <td>Sentiment140</td>\n",
       "      <td>Sunny Again        Work Tomorrow  ||neg||       TV Tonight</td>\n",
       "    </tr>\n",
       "    <tr>\n",
       "      <th>8</th>\n",
       "      <td>9</td>\n",
       "      <td>1</td>\n",
       "      <td>Sentiment140</td>\n",
       "      <td>handed in my uniform today . i miss you already</td>\n",
       "    </tr>\n",
       "    <tr>\n",
       "      <th>9</th>\n",
       "      <td>10</td>\n",
       "      <td>1</td>\n",
       "      <td>Sentiment140</td>\n",
       "      <td>hmmmm.... i wonder how she my number ||pos||</td>\n",
       "    </tr>\n",
       "  </tbody>\n",
       "</table>\n",
       "</div>"
      ],
      "text/plain": [
       "   ItemID  Sentiment SentimentSource  \\\n",
       "0       1          0    Sentiment140   \n",
       "1       2          0    Sentiment140   \n",
       "2       3          1    Sentiment140   \n",
       "3       4          0    Sentiment140   \n",
       "4       5          0    Sentiment140   \n",
       "5       6          0    Sentiment140   \n",
       "6       7          1    Sentiment140   \n",
       "7       8          0    Sentiment140   \n",
       "8       9          1    Sentiment140   \n",
       "9      10          1    Sentiment140   \n",
       "\n",
       "                                                                                                                              SentimentText  \n",
       "0                                                                                                is so sad for my APL friend.............    \n",
       "1                                                                                                        I missed the New Moon trailer...    \n",
       "2                                                                                                            omg its already 7:30 ||pos||    \n",
       "3              .. Omgaga. Im sooo  im gunna CRy. I've been at this dentist since 11.. I was suposed 2 just get a crown put on (30mins)...    \n",
       "4                                                                                        i think mi bf is cheating on me!!!       ||neg||    \n",
       "5                                                                                                       or i just worry too much?            \n",
       "6                                                                                                      Juuuuuuuuuuuuuuuuussssst Chillin!!    \n",
       "7                                                                              Sunny Again        Work Tomorrow  ||neg||       TV Tonight    \n",
       "8                                                                                         handed in my uniform today . i miss you already    \n",
       "9                                                                                            hmmmm.... i wonder how she my number ||pos||    "
      ]
     },
     "execution_count": 132,
     "metadata": {},
     "output_type": "execute_result"
    }
   ],
   "source": [
    "data.SentimentText = find_with_pattern(make_emoticon_pattern(positive_emoticons), True, '||pos||')\n",
    "data.SentimentText = find_with_pattern(make_emoticon_pattern(negative_emoticons), True, '||neg||')\n",
    "data.head(10)"
   ]
  },
  {
   "cell_type": "markdown",
   "metadata": {},
   "source": [
    "#### 2) Replace all urls\n",
    "Using the same method as for emoticons, we find all urls in each tweet and replace them by the tag ||url||"
   ]
  },
  {
   "cell_type": "code",
   "execution_count": 14,
   "metadata": {},
   "outputs": [
    {
     "name": "stdout",
     "output_type": "stream",
     "text": [
      "Number of urls: 73824\n"
     ]
    }
   ],
   "source": [
    "pattern_url = re.compile(ur'(?i)\\b((?:https?://|www\\d{0,3}[.]|[a-z0-9.\\-]+[.][a-z]{2,4}/)(?:[^\\s()<>]+|\\(([^\\s()<>]+|(\\([^\\s()<>]+\\)))*\\))+(?:\\(([^\\s()<>]+|(\\([^\\s()<>]+\\)))*\\)|[^\\s`!()\\[\\]{};:\\'\".,<>?\\xab\\xbb\\u201c\\u201d\\u2018\\u2019]))')\n",
    "\n",
    "url_found = find_with_pattern(pattern_url)\n",
    "print \"Number of urls: \" + str(len(url_found[url_found.map(lambda urls : len(urls) > 0)]))"
   ]
  },
  {
   "cell_type": "code",
   "execution_count": 135,
   "metadata": {},
   "outputs": [
    {
     "data": {
      "text/html": [
       "<div style=\"max-height:1000px;max-width:1500px;overflow:auto;\">\n",
       "<table border=\"1\" class=\"dataframe\">\n",
       "  <thead>\n",
       "    <tr style=\"text-align: right;\">\n",
       "      <th></th>\n",
       "      <th>ItemID</th>\n",
       "      <th>Sentiment</th>\n",
       "      <th>SentimentSource</th>\n",
       "      <th>SentimentText</th>\n",
       "    </tr>\n",
       "  </thead>\n",
       "  <tbody>\n",
       "    <tr>\n",
       "      <th>50</th>\n",
       "      <td>51</td>\n",
       "      <td>0</td>\n",
       "      <td>Sentiment140</td>\n",
       "      <td>baddest day eveer.</td>\n",
       "    </tr>\n",
       "    <tr>\n",
       "      <th>51</th>\n",
       "      <td>52</td>\n",
       "      <td>1</td>\n",
       "      <td>Sentiment140</td>\n",
       "      <td>bathroom is clean..... now on to more enjoyable tasks......</td>\n",
       "    </tr>\n",
       "    <tr>\n",
       "      <th>52</th>\n",
       "      <td>53</td>\n",
       "      <td>1</td>\n",
       "      <td>Sentiment140</td>\n",
       "      <td>boom boom pow</td>\n",
       "    </tr>\n",
       "    <tr>\n",
       "      <th>53</th>\n",
       "      <td>54</td>\n",
       "      <td>0</td>\n",
       "      <td>Sentiment140</td>\n",
       "      <td>but i'm proud.</td>\n",
       "    </tr>\n",
       "    <tr>\n",
       "      <th>54</th>\n",
       "      <td>55</td>\n",
       "      <td>0</td>\n",
       "      <td>Sentiment140</td>\n",
       "      <td>congrats to helio though</td>\n",
       "    </tr>\n",
       "    <tr>\n",
       "      <th>55</th>\n",
       "      <td>56</td>\n",
       "      <td>0</td>\n",
       "      <td>Sentiment140</td>\n",
       "      <td>David must be hospitalized for five days end of July (palatine tonsils). I will probably never see Katie in concert.</td>\n",
       "    </tr>\n",
       "    <tr>\n",
       "      <th>56</th>\n",
       "      <td>57</td>\n",
       "      <td>0</td>\n",
       "      <td>Sentiment140</td>\n",
       "      <td>friends are leaving me 'cause of this stupid love  http://bit.ly/ZoxZC</td>\n",
       "    </tr>\n",
       "    <tr>\n",
       "      <th>57</th>\n",
       "      <td>58</td>\n",
       "      <td>1</td>\n",
       "      <td>Sentiment140</td>\n",
       "      <td>go give ur mom a hug right now. http://bit.ly/azFwv</td>\n",
       "    </tr>\n",
       "    <tr>\n",
       "      <th>58</th>\n",
       "      <td>59</td>\n",
       "      <td>1</td>\n",
       "      <td>Sentiment140</td>\n",
       "      <td>Going To See Harry Sunday Happiness</td>\n",
       "    </tr>\n",
       "    <tr>\n",
       "      <th>59</th>\n",
       "      <td>60</td>\n",
       "      <td>0</td>\n",
       "      <td>Sentiment140</td>\n",
       "      <td>Hand quilting it is then...</td>\n",
       "    </tr>\n",
       "  </tbody>\n",
       "</table>\n",
       "</div>"
      ],
      "text/plain": [
       "    ItemID  Sentiment SentimentSource  \\\n",
       "50      51          0    Sentiment140   \n",
       "51      52          1    Sentiment140   \n",
       "52      53          1    Sentiment140   \n",
       "53      54          0    Sentiment140   \n",
       "54      55          0    Sentiment140   \n",
       "55      56          0    Sentiment140   \n",
       "56      57          0    Sentiment140   \n",
       "57      58          1    Sentiment140   \n",
       "58      59          1    Sentiment140   \n",
       "59      60          0    Sentiment140   \n",
       "\n",
       "                                                                                                                  SentimentText  \n",
       "50                                                                                                        baddest day eveer.     \n",
       "51                                                                bathroom is clean..... now on to more enjoyable tasks......    \n",
       "52                                                                                                              boom boom pow    \n",
       "53                                                                                                             but i'm proud.    \n",
       "54                                                                                                   congrats to helio though    \n",
       "55      David must be hospitalized for five days end of July (palatine tonsils). I will probably never see Katie in concert.     \n",
       "56                                                     friends are leaving me 'cause of this stupid love  http://bit.ly/ZoxZC    \n",
       "57                                                                        go give ur mom a hug right now. http://bit.ly/azFwv    \n",
       "58                                                                                       Going To See Harry Sunday Happiness     \n",
       "59                                                                                                Hand quilting it is then...    "
      ]
     },
     "execution_count": 135,
     "metadata": {},
     "output_type": "execute_result"
    }
   ],
   "source": [
    "data[50:60]"
   ]
  },
  {
   "cell_type": "code",
   "execution_count": 136,
   "metadata": {},
   "outputs": [
    {
     "data": {
      "text/html": [
       "<div style=\"max-height:1000px;max-width:1500px;overflow:auto;\">\n",
       "<table border=\"1\" class=\"dataframe\">\n",
       "  <thead>\n",
       "    <tr style=\"text-align: right;\">\n",
       "      <th></th>\n",
       "      <th>ItemID</th>\n",
       "      <th>Sentiment</th>\n",
       "      <th>SentimentSource</th>\n",
       "      <th>SentimentText</th>\n",
       "    </tr>\n",
       "  </thead>\n",
       "  <tbody>\n",
       "    <tr>\n",
       "      <th>50</th>\n",
       "      <td>51</td>\n",
       "      <td>0</td>\n",
       "      <td>Sentiment140</td>\n",
       "      <td>baddest day eveer.</td>\n",
       "    </tr>\n",
       "    <tr>\n",
       "      <th>51</th>\n",
       "      <td>52</td>\n",
       "      <td>1</td>\n",
       "      <td>Sentiment140</td>\n",
       "      <td>bathroom is clean..... now on to more enjoyable tasks......</td>\n",
       "    </tr>\n",
       "    <tr>\n",
       "      <th>52</th>\n",
       "      <td>53</td>\n",
       "      <td>1</td>\n",
       "      <td>Sentiment140</td>\n",
       "      <td>boom boom pow</td>\n",
       "    </tr>\n",
       "    <tr>\n",
       "      <th>53</th>\n",
       "      <td>54</td>\n",
       "      <td>0</td>\n",
       "      <td>Sentiment140</td>\n",
       "      <td>but i'm proud.</td>\n",
       "    </tr>\n",
       "    <tr>\n",
       "      <th>54</th>\n",
       "      <td>55</td>\n",
       "      <td>0</td>\n",
       "      <td>Sentiment140</td>\n",
       "      <td>congrats to helio though</td>\n",
       "    </tr>\n",
       "    <tr>\n",
       "      <th>55</th>\n",
       "      <td>56</td>\n",
       "      <td>0</td>\n",
       "      <td>Sentiment140</td>\n",
       "      <td>David must be hospitalized for five days end of July (palatine tonsils). I will probably never see Katie in concert.</td>\n",
       "    </tr>\n",
       "    <tr>\n",
       "      <th>56</th>\n",
       "      <td>57</td>\n",
       "      <td>0</td>\n",
       "      <td>Sentiment140</td>\n",
       "      <td>friends are leaving me 'cause of this stupid love  ||url||</td>\n",
       "    </tr>\n",
       "    <tr>\n",
       "      <th>57</th>\n",
       "      <td>58</td>\n",
       "      <td>1</td>\n",
       "      <td>Sentiment140</td>\n",
       "      <td>go give ur mom a hug right now. ||url||</td>\n",
       "    </tr>\n",
       "    <tr>\n",
       "      <th>58</th>\n",
       "      <td>59</td>\n",
       "      <td>1</td>\n",
       "      <td>Sentiment140</td>\n",
       "      <td>Going To See Harry Sunday Happiness</td>\n",
       "    </tr>\n",
       "    <tr>\n",
       "      <th>59</th>\n",
       "      <td>60</td>\n",
       "      <td>0</td>\n",
       "      <td>Sentiment140</td>\n",
       "      <td>Hand quilting it is then...</td>\n",
       "    </tr>\n",
       "  </tbody>\n",
       "</table>\n",
       "</div>"
      ],
      "text/plain": [
       "    ItemID  Sentiment SentimentSource  \\\n",
       "50      51          0    Sentiment140   \n",
       "51      52          1    Sentiment140   \n",
       "52      53          1    Sentiment140   \n",
       "53      54          0    Sentiment140   \n",
       "54      55          0    Sentiment140   \n",
       "55      56          0    Sentiment140   \n",
       "56      57          0    Sentiment140   \n",
       "57      58          1    Sentiment140   \n",
       "58      59          1    Sentiment140   \n",
       "59      60          0    Sentiment140   \n",
       "\n",
       "                                                                                                                    SentimentText  \n",
       "50                                                                                                         baddest day eveer.      \n",
       "51                                                                 bathroom is clean..... now on to more enjoyable tasks......     \n",
       "52                                                                                                               boom boom pow     \n",
       "53                                                                                                              but i'm proud.     \n",
       "54                                                                                                    congrats to helio though     \n",
       "55       David must be hospitalized for five days end of July (palatine tonsils). I will probably never see Katie in concert.      \n",
       "56                                                                  friends are leaving me 'cause of this stupid love  ||url||     \n",
       "57                                                                                     go give ur mom a hug right now. ||url||     \n",
       "58                                                                                        Going To See Harry Sunday Happiness      \n",
       "59                                                                                                 Hand quilting it is then...     "
      ]
     },
     "execution_count": 136,
     "metadata": {},
     "output_type": "execute_result"
    }
   ],
   "source": [
    "data.SentimentText = find_with_pattern(pattern_url, True, '||url||')\n",
    "data[50:60]"
   ]
  },
  {
   "cell_type": "markdown",
   "metadata": {},
   "source": [
    "#### 3) Remove Unicode characteres\n",
    "We remove unicode characteres since they can cause problems during the tokenization process. We keep only ASCII characteres."
   ]
  },
  {
   "cell_type": "code",
   "execution_count": 138,
   "metadata": {},
   "outputs": [
    {
     "data": {
      "text/html": [
       "<div style=\"max-height:1000px;max-width:1500px;overflow:auto;\">\n",
       "<table border=\"1\" class=\"dataframe\">\n",
       "  <thead>\n",
       "    <tr style=\"text-align: right;\">\n",
       "      <th></th>\n",
       "      <th>ItemID</th>\n",
       "      <th>Sentiment</th>\n",
       "      <th>SentimentSource</th>\n",
       "      <th>SentimentText</th>\n",
       "    </tr>\n",
       "  </thead>\n",
       "  <tbody>\n",
       "    <tr>\n",
       "      <th>1578592</th>\n",
       "      <td>1578608</td>\n",
       "      <td>1</td>\n",
       "      <td>Sentiment140</td>\n",
       "      <td>'Zu SpÃ¤t' by Die Ã„rzte. One of the best bands ever</td>\n",
       "    </tr>\n",
       "    <tr>\n",
       "      <th>1578593</th>\n",
       "      <td>1578609</td>\n",
       "      <td>1</td>\n",
       "      <td>Sentiment140</td>\n",
       "      <td>Zuma bitch tomorrow. Have a wonderful night everyone  goodnight.</td>\n",
       "    </tr>\n",
       "    <tr>\n",
       "      <th>1578594</th>\n",
       "      <td>1578610</td>\n",
       "      <td>0</td>\n",
       "      <td>Sentiment140</td>\n",
       "      <td>zummie's couch tour was amazing....to bad i had to leave early</td>\n",
       "    </tr>\n",
       "    <tr>\n",
       "      <th>1578595</th>\n",
       "      <td>1578611</td>\n",
       "      <td>0</td>\n",
       "      <td>Sentiment140</td>\n",
       "      <td>ZuneHD looks great! OLED screen @720p, HDMI, only issue is that I have an iPhone and 2 iPods  . MAKE IT A PHONE and ill buy it @micro...</td>\n",
       "    </tr>\n",
       "    <tr>\n",
       "      <th>1578596</th>\n",
       "      <td>1578612</td>\n",
       "      <td>1</td>\n",
       "      <td>Sentiment140</td>\n",
       "      <td>zup there ! learning a new magic trick</td>\n",
       "    </tr>\n",
       "    <tr>\n",
       "      <th>1578597</th>\n",
       "      <td>1578613</td>\n",
       "      <td>1</td>\n",
       "      <td>Sentiment140</td>\n",
       "      <td>zyklonic showers   *evil*</td>\n",
       "    </tr>\n",
       "    <tr>\n",
       "      <th>1578598</th>\n",
       "      <td>1578614</td>\n",
       "      <td>1</td>\n",
       "      <td>Sentiment140</td>\n",
       "      <td>ZZ Top â€“ I Thank You ...@hawaiibuzz   .....Thanks for your music and for your ear(s) ...ALL !!!! Have a fab... â™« ||url||</td>\n",
       "    </tr>\n",
       "    <tr>\n",
       "      <th>1578599</th>\n",
       "      <td>1578615</td>\n",
       "      <td>0</td>\n",
       "      <td>Sentiment140</td>\n",
       "      <td>zzz time. Just wish my love could B nxt 2 me</td>\n",
       "    </tr>\n",
       "    <tr>\n",
       "      <th>1578600</th>\n",
       "      <td>1578616</td>\n",
       "      <td>1</td>\n",
       "      <td>Sentiment140</td>\n",
       "      <td>zzz twitter. good day today. got a lot accomplished. imstorm. got into it w yet another girl. dress shopping tmrw</td>\n",
       "    </tr>\n",
       "    <tr>\n",
       "      <th>1578601</th>\n",
       "      <td>1578617</td>\n",
       "      <td>1</td>\n",
       "      <td>Sentiment140</td>\n",
       "      <td>zzz's time, goodnight.  ||url||</td>\n",
       "    </tr>\n",
       "  </tbody>\n",
       "</table>\n",
       "</div>"
      ],
      "text/plain": [
       "          ItemID  Sentiment SentimentSource  \\\n",
       "1578592  1578608          1    Sentiment140   \n",
       "1578593  1578609          1    Sentiment140   \n",
       "1578594  1578610          0    Sentiment140   \n",
       "1578595  1578611          0    Sentiment140   \n",
       "1578596  1578612          1    Sentiment140   \n",
       "1578597  1578613          1    Sentiment140   \n",
       "1578598  1578614          1    Sentiment140   \n",
       "1578599  1578615          0    Sentiment140   \n",
       "1578600  1578616          1    Sentiment140   \n",
       "1578601  1578617          1    Sentiment140   \n",
       "\n",
       "                                                                                                                                       SentimentText  \n",
       "1578592                                                                                     'Zu SpÃ¤t' by Die Ã„rzte. One of the best bands ever      \n",
       "1578593                                                                          Zuma bitch tomorrow. Have a wonderful night everyone  goodnight.     \n",
       "1578594                                                                           zummie's couch tour was amazing....to bad i had to leave early      \n",
       "1578595     ZuneHD looks great! OLED screen @720p, HDMI, only issue is that I have an iPhone and 2 iPods  . MAKE IT A PHONE and ill buy it @micro...  \n",
       "1578596                                                                                                   zup there ! learning a new magic trick      \n",
       "1578597                                                                                                                 zyklonic showers   *evil*     \n",
       "1578598              ZZ Top â€“ I Thank You ...@hawaiibuzz   .....Thanks for your music and for your ear(s) ...ALL !!!! Have a fab... â™« ||url||     \n",
       "1578599                                                                                             zzz time. Just wish my love could B nxt 2 me      \n",
       "1578600                        zzz twitter. good day today. got a lot accomplished. imstorm. got into it w yet another girl. dress shopping tmrw      \n",
       "1578601                                                                                                           zzz's time, goodnight.  ||url||     "
      ]
     },
     "execution_count": 138,
     "metadata": {},
     "output_type": "execute_result"
    }
   ],
   "source": [
    "data[1578592:1578602]"
   ]
  },
  {
   "cell_type": "code",
   "execution_count": 139,
   "metadata": {},
   "outputs": [
    {
     "data": {
      "text/html": [
       "<div style=\"max-height:1000px;max-width:1500px;overflow:auto;\">\n",
       "<table border=\"1\" class=\"dataframe\">\n",
       "  <thead>\n",
       "    <tr style=\"text-align: right;\">\n",
       "      <th></th>\n",
       "      <th>ItemID</th>\n",
       "      <th>Sentiment</th>\n",
       "      <th>SentimentSource</th>\n",
       "      <th>SentimentText</th>\n",
       "    </tr>\n",
       "  </thead>\n",
       "  <tbody>\n",
       "    <tr>\n",
       "      <th>1578592</th>\n",
       "      <td>1578608</td>\n",
       "      <td>1</td>\n",
       "      <td>Sentiment140</td>\n",
       "      <td>'Zu Spt' by Die rzte. One of the best bands ever</td>\n",
       "    </tr>\n",
       "    <tr>\n",
       "      <th>1578593</th>\n",
       "      <td>1578609</td>\n",
       "      <td>1</td>\n",
       "      <td>Sentiment140</td>\n",
       "      <td>Zuma bitch tomorrow. Have a wonderful night everyone  goodnight.</td>\n",
       "    </tr>\n",
       "    <tr>\n",
       "      <th>1578594</th>\n",
       "      <td>1578610</td>\n",
       "      <td>0</td>\n",
       "      <td>Sentiment140</td>\n",
       "      <td>zummie's couch tour was amazing....to bad i had to leave early</td>\n",
       "    </tr>\n",
       "    <tr>\n",
       "      <th>1578595</th>\n",
       "      <td>1578611</td>\n",
       "      <td>0</td>\n",
       "      <td>Sentiment140</td>\n",
       "      <td>ZuneHD looks great! OLED screen @720p, HDMI, only issue is that I have an iPhone and 2 iPods  . MAKE IT A PHONE and ill buy it @micro...</td>\n",
       "    </tr>\n",
       "    <tr>\n",
       "      <th>1578596</th>\n",
       "      <td>1578612</td>\n",
       "      <td>1</td>\n",
       "      <td>Sentiment140</td>\n",
       "      <td>zup there ! learning a new magic trick</td>\n",
       "    </tr>\n",
       "    <tr>\n",
       "      <th>1578597</th>\n",
       "      <td>1578613</td>\n",
       "      <td>1</td>\n",
       "      <td>Sentiment140</td>\n",
       "      <td>zyklonic showers   *evil*</td>\n",
       "    </tr>\n",
       "    <tr>\n",
       "      <th>1578598</th>\n",
       "      <td>1578614</td>\n",
       "      <td>1</td>\n",
       "      <td>Sentiment140</td>\n",
       "      <td>ZZ Top  I Thank You ...@hawaiibuzz   .....Thanks for your music and for your ear(s) ...ALL !!!! Have a fab...  ||url||</td>\n",
       "    </tr>\n",
       "    <tr>\n",
       "      <th>1578599</th>\n",
       "      <td>1578615</td>\n",
       "      <td>0</td>\n",
       "      <td>Sentiment140</td>\n",
       "      <td>zzz time. Just wish my love could B nxt 2 me</td>\n",
       "    </tr>\n",
       "    <tr>\n",
       "      <th>1578600</th>\n",
       "      <td>1578616</td>\n",
       "      <td>1</td>\n",
       "      <td>Sentiment140</td>\n",
       "      <td>zzz twitter. good day today. got a lot accomplished. imstorm. got into it w yet another girl. dress shopping tmrw</td>\n",
       "    </tr>\n",
       "    <tr>\n",
       "      <th>1578601</th>\n",
       "      <td>1578617</td>\n",
       "      <td>1</td>\n",
       "      <td>Sentiment140</td>\n",
       "      <td>zzz's time, goodnight.  ||url||</td>\n",
       "    </tr>\n",
       "  </tbody>\n",
       "</table>\n",
       "</div>"
      ],
      "text/plain": [
       "          ItemID  Sentiment SentimentSource  \\\n",
       "1578592  1578608          1    Sentiment140   \n",
       "1578593  1578609          1    Sentiment140   \n",
       "1578594  1578610          0    Sentiment140   \n",
       "1578595  1578611          0    Sentiment140   \n",
       "1578596  1578612          1    Sentiment140   \n",
       "1578597  1578613          1    Sentiment140   \n",
       "1578598  1578614          1    Sentiment140   \n",
       "1578599  1578615          0    Sentiment140   \n",
       "1578600  1578616          1    Sentiment140   \n",
       "1578601  1578617          1    Sentiment140   \n",
       "\n",
       "                                                                                                                                       SentimentText  \n",
       "1578592                                                                                         'Zu Spt' by Die rzte. One of the best bands ever      \n",
       "1578593                                                                          Zuma bitch tomorrow. Have a wonderful night everyone  goodnight.     \n",
       "1578594                                                                           zummie's couch tour was amazing....to bad i had to leave early      \n",
       "1578595     ZuneHD looks great! OLED screen @720p, HDMI, only issue is that I have an iPhone and 2 iPods  . MAKE IT A PHONE and ill buy it @micro...  \n",
       "1578596                                                                                                   zup there ! learning a new magic trick      \n",
       "1578597                                                                                                                 zyklonic showers   *evil*     \n",
       "1578598                    ZZ Top  I Thank You ...@hawaiibuzz   .....Thanks for your music and for your ear(s) ...ALL !!!! Have a fab...  ||url||     \n",
       "1578599                                                                                             zzz time. Just wish my love could B nxt 2 me      \n",
       "1578600                        zzz twitter. good day today. got a lot accomplished. imstorm. got into it w yet another girl. dress shopping tmrw      \n",
       "1578601                                                                                                           zzz's time, goodnight.  ||url||     "
      ]
     },
     "execution_count": 139,
     "metadata": {},
     "output_type": "execute_result"
    }
   ],
   "source": [
    "def remove_unicode(string):\n",
    "    try:\n",
    "        string = string.decode('unicode_escape').encode('ascii','ignore')\n",
    "    except UnicodeDecodeError:\n",
    "        pass\n",
    "    return string\n",
    "\n",
    "data.SentimentText = data.SentimentText.apply(lambda tweet: remove_unicode(tweet))\n",
    "data[1578592:1578602]"
   ]
  },
  {
   "cell_type": "markdown",
   "metadata": {},
   "source": [
    "#### 4) Decode HTML entities\n",
    "Simply decode HTML entities."
   ]
  },
  {
   "cell_type": "code",
   "execution_count": 140,
   "metadata": {},
   "outputs": [
    {
     "data": {
      "text/plain": [
       "'   Cannot get chatroom feature to work.   Updated Java to 10, checked ports, etc. I can see video, but in the &quot;chat,&quot; only a spinning circle.   '"
      ]
     },
     "execution_count": 140,
     "metadata": {},
     "output_type": "execute_result"
    }
   ],
   "source": [
    "data.SentimentText[599982]"
   ]
  },
  {
   "cell_type": "code",
   "execution_count": 141,
   "metadata": {},
   "outputs": [
    {
     "data": {
      "text/plain": [
       "u'   Cannot get chatroom feature to work.   Updated Java to 10, checked ports, etc. I can see video, but in the \"chat,\" only a spinning circle.   '"
      ]
     },
     "execution_count": 141,
     "metadata": {},
     "output_type": "execute_result"
    }
   ],
   "source": [
    "import HTMLParser\n",
    "\n",
    "html_parser = HTMLParser.HTMLParser()\n",
    "# Convert tweets in unicode utf-8 to avoid mixing unicode with ascii and causing an error during unescape\n",
    "data.SentimentText = data.SentimentText.apply(lambda tweet: html_parser.unescape(tweet))\n",
    "data.SentimentText[599982]"
   ]
  },
  {
   "cell_type": "markdown",
   "metadata": {},
   "source": [
    "#### 5) Convert all letters to lower case\n",
    "This is part is extremely simple, we just transform all tweets to lower case."
   ]
  },
  {
   "cell_type": "code",
   "execution_count": 142,
   "metadata": {},
   "outputs": [
    {
     "data": {
      "text/html": [
       "<div style=\"max-height:1000px;max-width:1500px;overflow:auto;\">\n",
       "<table border=\"1\" class=\"dataframe\">\n",
       "  <thead>\n",
       "    <tr style=\"text-align: right;\">\n",
       "      <th></th>\n",
       "      <th>ItemID</th>\n",
       "      <th>Sentiment</th>\n",
       "      <th>SentimentSource</th>\n",
       "      <th>SentimentText</th>\n",
       "    </tr>\n",
       "  </thead>\n",
       "  <tbody>\n",
       "    <tr>\n",
       "      <th>1578592</th>\n",
       "      <td>1578608</td>\n",
       "      <td>1</td>\n",
       "      <td>Sentiment140</td>\n",
       "      <td>'Zu Spt' by Die rzte. One of the best bands ever</td>\n",
       "    </tr>\n",
       "    <tr>\n",
       "      <th>1578593</th>\n",
       "      <td>1578609</td>\n",
       "      <td>1</td>\n",
       "      <td>Sentiment140</td>\n",
       "      <td>Zuma bitch tomorrow. Have a wonderful night everyone  goodnight.</td>\n",
       "    </tr>\n",
       "    <tr>\n",
       "      <th>1578594</th>\n",
       "      <td>1578610</td>\n",
       "      <td>0</td>\n",
       "      <td>Sentiment140</td>\n",
       "      <td>zummie's couch tour was amazing....to bad i had to leave early</td>\n",
       "    </tr>\n",
       "    <tr>\n",
       "      <th>1578595</th>\n",
       "      <td>1578611</td>\n",
       "      <td>0</td>\n",
       "      <td>Sentiment140</td>\n",
       "      <td>ZuneHD looks great! OLED screen @720p, HDMI, only issue is that I have an iPhone and 2 iPods  . MAKE IT A PHONE and ill buy it @micro...</td>\n",
       "    </tr>\n",
       "    <tr>\n",
       "      <th>1578596</th>\n",
       "      <td>1578612</td>\n",
       "      <td>1</td>\n",
       "      <td>Sentiment140</td>\n",
       "      <td>zup there ! learning a new magic trick</td>\n",
       "    </tr>\n",
       "    <tr>\n",
       "      <th>1578597</th>\n",
       "      <td>1578613</td>\n",
       "      <td>1</td>\n",
       "      <td>Sentiment140</td>\n",
       "      <td>zyklonic showers   *evil*</td>\n",
       "    </tr>\n",
       "    <tr>\n",
       "      <th>1578598</th>\n",
       "      <td>1578614</td>\n",
       "      <td>1</td>\n",
       "      <td>Sentiment140</td>\n",
       "      <td>ZZ Top  I Thank You ...@hawaiibuzz   .....Thanks for your music and for your ear(s) ...ALL !!!! Have a fab...  ||url||</td>\n",
       "    </tr>\n",
       "    <tr>\n",
       "      <th>1578599</th>\n",
       "      <td>1578615</td>\n",
       "      <td>0</td>\n",
       "      <td>Sentiment140</td>\n",
       "      <td>zzz time. Just wish my love could B nxt 2 me</td>\n",
       "    </tr>\n",
       "    <tr>\n",
       "      <th>1578600</th>\n",
       "      <td>1578616</td>\n",
       "      <td>1</td>\n",
       "      <td>Sentiment140</td>\n",
       "      <td>zzz twitter. good day today. got a lot accomplished. imstorm. got into it w yet another girl. dress shopping tmrw</td>\n",
       "    </tr>\n",
       "    <tr>\n",
       "      <th>1578601</th>\n",
       "      <td>1578617</td>\n",
       "      <td>1</td>\n",
       "      <td>Sentiment140</td>\n",
       "      <td>zzz's time, goodnight.  ||url||</td>\n",
       "    </tr>\n",
       "  </tbody>\n",
       "</table>\n",
       "</div>"
      ],
      "text/plain": [
       "          ItemID  Sentiment SentimentSource  \\\n",
       "1578592  1578608          1    Sentiment140   \n",
       "1578593  1578609          1    Sentiment140   \n",
       "1578594  1578610          0    Sentiment140   \n",
       "1578595  1578611          0    Sentiment140   \n",
       "1578596  1578612          1    Sentiment140   \n",
       "1578597  1578613          1    Sentiment140   \n",
       "1578598  1578614          1    Sentiment140   \n",
       "1578599  1578615          0    Sentiment140   \n",
       "1578600  1578616          1    Sentiment140   \n",
       "1578601  1578617          1    Sentiment140   \n",
       "\n",
       "                                                                                                                                       SentimentText  \n",
       "1578592                                                                                         'Zu Spt' by Die rzte. One of the best bands ever      \n",
       "1578593                                                                          Zuma bitch tomorrow. Have a wonderful night everyone  goodnight.     \n",
       "1578594                                                                           zummie's couch tour was amazing....to bad i had to leave early      \n",
       "1578595     ZuneHD looks great! OLED screen @720p, HDMI, only issue is that I have an iPhone and 2 iPods  . MAKE IT A PHONE and ill buy it @micro...  \n",
       "1578596                                                                                                   zup there ! learning a new magic trick      \n",
       "1578597                                                                                                                 zyklonic showers   *evil*     \n",
       "1578598                    ZZ Top  I Thank You ...@hawaiibuzz   .....Thanks for your music and for your ear(s) ...ALL !!!! Have a fab...  ||url||     \n",
       "1578599                                                                                             zzz time. Just wish my love could B nxt 2 me      \n",
       "1578600                        zzz twitter. good day today. got a lot accomplished. imstorm. got into it w yet another girl. dress shopping tmrw      \n",
       "1578601                                                                                                           zzz's time, goodnight.  ||url||     "
      ]
     },
     "execution_count": 142,
     "metadata": {},
     "output_type": "execute_result"
    }
   ],
   "source": [
    "data[1578592:1578602]"
   ]
  },
  {
   "cell_type": "code",
   "execution_count": 143,
   "metadata": {},
   "outputs": [
    {
     "data": {
      "text/html": [
       "<div style=\"max-height:1000px;max-width:1500px;overflow:auto;\">\n",
       "<table border=\"1\" class=\"dataframe\">\n",
       "  <thead>\n",
       "    <tr style=\"text-align: right;\">\n",
       "      <th></th>\n",
       "      <th>ItemID</th>\n",
       "      <th>Sentiment</th>\n",
       "      <th>SentimentSource</th>\n",
       "      <th>SentimentText</th>\n",
       "    </tr>\n",
       "  </thead>\n",
       "  <tbody>\n",
       "    <tr>\n",
       "      <th>0</th>\n",
       "      <td>1</td>\n",
       "      <td>0</td>\n",
       "      <td>Sentiment140</td>\n",
       "      <td>is so sad for my apl friend.............</td>\n",
       "    </tr>\n",
       "    <tr>\n",
       "      <th>1</th>\n",
       "      <td>2</td>\n",
       "      <td>0</td>\n",
       "      <td>Sentiment140</td>\n",
       "      <td>i missed the new moon trailer...</td>\n",
       "    </tr>\n",
       "    <tr>\n",
       "      <th>2</th>\n",
       "      <td>3</td>\n",
       "      <td>1</td>\n",
       "      <td>Sentiment140</td>\n",
       "      <td>omg its already 7:30 ||pos||</td>\n",
       "    </tr>\n",
       "    <tr>\n",
       "      <th>3</th>\n",
       "      <td>4</td>\n",
       "      <td>0</td>\n",
       "      <td>Sentiment140</td>\n",
       "      <td>.. omgaga. im sooo  im gunna cry. i've been at this dentist since 11.. i was suposed 2 just get a crown put on (30mins)...</td>\n",
       "    </tr>\n",
       "    <tr>\n",
       "      <th>4</th>\n",
       "      <td>5</td>\n",
       "      <td>0</td>\n",
       "      <td>Sentiment140</td>\n",
       "      <td>i think mi bf is cheating on me!!!       ||neg||</td>\n",
       "    </tr>\n",
       "    <tr>\n",
       "      <th>5</th>\n",
       "      <td>6</td>\n",
       "      <td>0</td>\n",
       "      <td>Sentiment140</td>\n",
       "      <td>or i just worry too much?</td>\n",
       "    </tr>\n",
       "    <tr>\n",
       "      <th>6</th>\n",
       "      <td>7</td>\n",
       "      <td>1</td>\n",
       "      <td>Sentiment140</td>\n",
       "      <td>juuuuuuuuuuuuuuuuussssst chillin!!</td>\n",
       "    </tr>\n",
       "    <tr>\n",
       "      <th>7</th>\n",
       "      <td>8</td>\n",
       "      <td>0</td>\n",
       "      <td>Sentiment140</td>\n",
       "      <td>sunny again        work tomorrow  ||neg||       tv tonight</td>\n",
       "    </tr>\n",
       "    <tr>\n",
       "      <th>8</th>\n",
       "      <td>9</td>\n",
       "      <td>1</td>\n",
       "      <td>Sentiment140</td>\n",
       "      <td>handed in my uniform today . i miss you already</td>\n",
       "    </tr>\n",
       "    <tr>\n",
       "      <th>9</th>\n",
       "      <td>10</td>\n",
       "      <td>1</td>\n",
       "      <td>Sentiment140</td>\n",
       "      <td>hmmmm.... i wonder how she my number ||pos||</td>\n",
       "    </tr>\n",
       "  </tbody>\n",
       "</table>\n",
       "</div>"
      ],
      "text/plain": [
       "   ItemID  Sentiment SentimentSource  \\\n",
       "0       1          0    Sentiment140   \n",
       "1       2          0    Sentiment140   \n",
       "2       3          1    Sentiment140   \n",
       "3       4          0    Sentiment140   \n",
       "4       5          0    Sentiment140   \n",
       "5       6          0    Sentiment140   \n",
       "6       7          1    Sentiment140   \n",
       "7       8          0    Sentiment140   \n",
       "8       9          1    Sentiment140   \n",
       "9      10          1    Sentiment140   \n",
       "\n",
       "                                                                                                                                SentimentText  \n",
       "0                                                                                                 is so sad for my apl friend.............     \n",
       "1                                                                                                         i missed the new moon trailer...     \n",
       "2                                                                                                             omg its already 7:30 ||pos||     \n",
       "3               .. omgaga. im sooo  im gunna cry. i've been at this dentist since 11.. i was suposed 2 just get a crown put on (30mins)...     \n",
       "4                                                                                         i think mi bf is cheating on me!!!       ||neg||     \n",
       "5                                                                                                        or i just worry too much?             \n",
       "6                                                                                                       juuuuuuuuuuuuuuuuussssst chillin!!     \n",
       "7                                                                               sunny again        work tomorrow  ||neg||       tv tonight     \n",
       "8                                                                                          handed in my uniform today . i miss you already     \n",
       "9                                                                                             hmmmm.... i wonder how she my number ||pos||     "
      ]
     },
     "execution_count": 143,
     "metadata": {},
     "output_type": "execute_result"
    }
   ],
   "source": [
    "data.SentimentText = data.SentimentText.str.lower()\n",
    "data.head(10)"
   ]
  },
  {
   "cell_type": "markdown",
   "metadata": {},
   "source": [
    "#### 6) Replace all usernames/targets @ with the tag ||target||\n",
    "Since we don't need to take into account usernames in order to determine the sentiment of a tweet we replace them by the tag ||target||."
   ]
  },
  {
   "cell_type": "code",
   "execution_count": 19,
   "metadata": {},
   "outputs": [
    {
     "data": {
      "text/plain": [
       "735757"
      ]
     },
     "execution_count": 19,
     "metadata": {},
     "output_type": "execute_result"
    }
   ],
   "source": [
    "pattern_usernames = \"@\\w{1,}\"\n",
    "usernames_found = find_with_pattern(pattern_usernames)\n",
    "len(data.SentimentText[usernames_found.apply(lambda usernames : len(usernames) > 0)])"
   ]
  },
  {
   "cell_type": "code",
   "execution_count": 145,
   "metadata": {},
   "outputs": [
    {
     "data": {
      "text/html": [
       "<div style=\"max-height:1000px;max-width:1500px;overflow:auto;\">\n",
       "<table border=\"1\" class=\"dataframe\">\n",
       "  <thead>\n",
       "    <tr style=\"text-align: right;\">\n",
       "      <th></th>\n",
       "      <th>ItemID</th>\n",
       "      <th>Sentiment</th>\n",
       "      <th>SentimentSource</th>\n",
       "      <th>SentimentText</th>\n",
       "    </tr>\n",
       "  </thead>\n",
       "  <tbody>\n",
       "    <tr>\n",
       "      <th>45</th>\n",
       "      <td>46</td>\n",
       "      <td>1</td>\n",
       "      <td>Sentiment140</td>\n",
       "      <td>@ginaaa &lt;3 go to the show tonight</td>\n",
       "    </tr>\n",
       "    <tr>\n",
       "      <th>46</th>\n",
       "      <td>47</td>\n",
       "      <td>0</td>\n",
       "      <td>Sentiment140</td>\n",
       "      <td>@spiral_galaxy @ymptweet  it really makes me sad when i look at muslims reality now</td>\n",
       "    </tr>\n",
       "    <tr>\n",
       "      <th>47</th>\n",
       "      <td>48</td>\n",
       "      <td>0</td>\n",
       "      <td>Sentiment140</td>\n",
       "      <td>- all time low shall be my motivation for the rest of the week.</td>\n",
       "    </tr>\n",
       "    <tr>\n",
       "      <th>48</th>\n",
       "      <td>49</td>\n",
       "      <td>0</td>\n",
       "      <td>Sentiment140</td>\n",
       "      <td>and the entertainment is over, someone complained properly..   @rupturerapture experimental you say? he should experiment with a me...</td>\n",
       "    </tr>\n",
       "    <tr>\n",
       "      <th>49</th>\n",
       "      <td>50</td>\n",
       "      <td>0</td>\n",
       "      <td>Sentiment140</td>\n",
       "      <td>another year of lakers .. that's neither magic nor fun ...</td>\n",
       "    </tr>\n",
       "    <tr>\n",
       "      <th>50</th>\n",
       "      <td>51</td>\n",
       "      <td>0</td>\n",
       "      <td>Sentiment140</td>\n",
       "      <td>baddest day eveer.</td>\n",
       "    </tr>\n",
       "    <tr>\n",
       "      <th>51</th>\n",
       "      <td>52</td>\n",
       "      <td>1</td>\n",
       "      <td>Sentiment140</td>\n",
       "      <td>bathroom is clean..... now on to more enjoyable tasks......</td>\n",
       "    </tr>\n",
       "    <tr>\n",
       "      <th>52</th>\n",
       "      <td>53</td>\n",
       "      <td>1</td>\n",
       "      <td>Sentiment140</td>\n",
       "      <td>boom boom pow</td>\n",
       "    </tr>\n",
       "    <tr>\n",
       "      <th>53</th>\n",
       "      <td>54</td>\n",
       "      <td>0</td>\n",
       "      <td>Sentiment140</td>\n",
       "      <td>but i'm proud.</td>\n",
       "    </tr>\n",
       "    <tr>\n",
       "      <th>54</th>\n",
       "      <td>55</td>\n",
       "      <td>0</td>\n",
       "      <td>Sentiment140</td>\n",
       "      <td>congrats to helio though</td>\n",
       "    </tr>\n",
       "  </tbody>\n",
       "</table>\n",
       "</div>"
      ],
      "text/plain": [
       "    ItemID  Sentiment SentimentSource  \\\n",
       "45      46          1    Sentiment140   \n",
       "46      47          0    Sentiment140   \n",
       "47      48          0    Sentiment140   \n",
       "48      49          0    Sentiment140   \n",
       "49      50          0    Sentiment140   \n",
       "50      51          0    Sentiment140   \n",
       "51      52          1    Sentiment140   \n",
       "52      53          1    Sentiment140   \n",
       "53      54          0    Sentiment140   \n",
       "54      55          0    Sentiment140   \n",
       "\n",
       "                                                                                                                                  SentimentText  \n",
       "45                                                                                                         @ginaaa <3 go to the show tonight     \n",
       "46                                                       @spiral_galaxy @ymptweet  it really makes me sad when i look at muslims reality now     \n",
       "47                                                                           - all time low shall be my motivation for the rest of the week.     \n",
       "48       and the entertainment is over, someone complained properly..   @rupturerapture experimental you say? he should experiment with a me...  \n",
       "49                                                                                another year of lakers .. that's neither magic nor fun ...     \n",
       "50                                                                                                                       baddest day eveer.      \n",
       "51                                                                               bathroom is clean..... now on to more enjoyable tasks......     \n",
       "52                                                                                                                             boom boom pow     \n",
       "53                                                                                                                            but i'm proud.     \n",
       "54                                                                                                                  congrats to helio though     "
      ]
     },
     "execution_count": 145,
     "metadata": {},
     "output_type": "execute_result"
    }
   ],
   "source": [
    "data[45:55]"
   ]
  },
  {
   "cell_type": "code",
   "execution_count": 146,
   "metadata": {},
   "outputs": [
    {
     "data": {
      "text/html": [
       "<div style=\"max-height:1000px;max-width:1500px;overflow:auto;\">\n",
       "<table border=\"1\" class=\"dataframe\">\n",
       "  <thead>\n",
       "    <tr style=\"text-align: right;\">\n",
       "      <th></th>\n",
       "      <th>ItemID</th>\n",
       "      <th>Sentiment</th>\n",
       "      <th>SentimentSource</th>\n",
       "      <th>SentimentText</th>\n",
       "    </tr>\n",
       "  </thead>\n",
       "  <tbody>\n",
       "    <tr>\n",
       "      <th>45</th>\n",
       "      <td>46</td>\n",
       "      <td>1</td>\n",
       "      <td>Sentiment140</td>\n",
       "      <td>||target|| &lt;3 go to the show tonight</td>\n",
       "    </tr>\n",
       "    <tr>\n",
       "      <th>46</th>\n",
       "      <td>47</td>\n",
       "      <td>0</td>\n",
       "      <td>Sentiment140</td>\n",
       "      <td>||target|| ||target||  it really makes me sad when i look at muslims reality now</td>\n",
       "    </tr>\n",
       "    <tr>\n",
       "      <th>47</th>\n",
       "      <td>48</td>\n",
       "      <td>0</td>\n",
       "      <td>Sentiment140</td>\n",
       "      <td>- all time low shall be my motivation for the rest of the week.</td>\n",
       "    </tr>\n",
       "    <tr>\n",
       "      <th>48</th>\n",
       "      <td>49</td>\n",
       "      <td>0</td>\n",
       "      <td>Sentiment140</td>\n",
       "      <td>and the entertainment is over, someone complained properly..   ||target|| experimental you say? he should experiment with a melody...</td>\n",
       "    </tr>\n",
       "    <tr>\n",
       "      <th>49</th>\n",
       "      <td>50</td>\n",
       "      <td>0</td>\n",
       "      <td>Sentiment140</td>\n",
       "      <td>another year of lakers .. that's neither magic nor fun ...</td>\n",
       "    </tr>\n",
       "    <tr>\n",
       "      <th>50</th>\n",
       "      <td>51</td>\n",
       "      <td>0</td>\n",
       "      <td>Sentiment140</td>\n",
       "      <td>baddest day eveer.</td>\n",
       "    </tr>\n",
       "    <tr>\n",
       "      <th>51</th>\n",
       "      <td>52</td>\n",
       "      <td>1</td>\n",
       "      <td>Sentiment140</td>\n",
       "      <td>bathroom is clean..... now on to more enjoyable tasks......</td>\n",
       "    </tr>\n",
       "    <tr>\n",
       "      <th>52</th>\n",
       "      <td>53</td>\n",
       "      <td>1</td>\n",
       "      <td>Sentiment140</td>\n",
       "      <td>boom boom pow</td>\n",
       "    </tr>\n",
       "    <tr>\n",
       "      <th>53</th>\n",
       "      <td>54</td>\n",
       "      <td>0</td>\n",
       "      <td>Sentiment140</td>\n",
       "      <td>but i'm proud.</td>\n",
       "    </tr>\n",
       "    <tr>\n",
       "      <th>54</th>\n",
       "      <td>55</td>\n",
       "      <td>0</td>\n",
       "      <td>Sentiment140</td>\n",
       "      <td>congrats to helio though</td>\n",
       "    </tr>\n",
       "  </tbody>\n",
       "</table>\n",
       "</div>"
      ],
      "text/plain": [
       "    ItemID  Sentiment SentimentSource  \\\n",
       "45      46          1    Sentiment140   \n",
       "46      47          0    Sentiment140   \n",
       "47      48          0    Sentiment140   \n",
       "48      49          0    Sentiment140   \n",
       "49      50          0    Sentiment140   \n",
       "50      51          0    Sentiment140   \n",
       "51      52          1    Sentiment140   \n",
       "52      53          1    Sentiment140   \n",
       "53      54          0    Sentiment140   \n",
       "54      55          0    Sentiment140   \n",
       "\n",
       "                                                                                                                                  SentimentText  \n",
       "45                                                                                                     ||target|| <3 go to the show tonight      \n",
       "46                                                         ||target|| ||target||  it really makes me sad when i look at muslims reality now      \n",
       "47                                                                          - all time low shall be my motivation for the rest of the week.      \n",
       "48        and the entertainment is over, someone complained properly..   ||target|| experimental you say? he should experiment with a melody...  \n",
       "49                                                                               another year of lakers .. that's neither magic nor fun ...      \n",
       "50                                                                                                                      baddest day eveer.       \n",
       "51                                                                              bathroom is clean..... now on to more enjoyable tasks......      \n",
       "52                                                                                                                            boom boom pow      \n",
       "53                                                                                                                           but i'm proud.      \n",
       "54                                                                                                                 congrats to helio though      "
      ]
     },
     "execution_count": 146,
     "metadata": {},
     "output_type": "execute_result"
    }
   ],
   "source": [
    "data.SentimentText = find_with_pattern(pattern_usernames, True, '||target||')\n",
    "data[45:55]"
   ]
  },
  {
   "cell_type": "markdown",
   "metadata": {},
   "source": [
    "#### 7) Replace all acronyms with their translation\n",
    "Next, we replace all acronyms with their translation using the acronym dictionary.  \n",
    "At this point, tweets are going to be tokenized by getting rid of the punctuation and using split in order to do the process really fast. We could use **nltk.tokenizer** but it is definitly much much slower (also much more accurate). \n"
   ]
  },
  {
   "cell_type": "code",
   "execution_count": 148,
   "metadata": {},
   "outputs": [
    {
     "data": {
      "text/plain": [
       "[('lol', 59000),\n",
       " ('u', 54557),\n",
       " ('im', 51099),\n",
       " ('2', 42645),\n",
       " ('gonna', 23716),\n",
       " ('4', 18610),\n",
       " ('dont', 18363),\n",
       " ('wanna', 16357),\n",
       " ('ok', 16104),\n",
       " ('ur', 12960),\n",
       " ('omg', 12178),\n",
       " ('n', 10415),\n",
       " ('ya', 9948),\n",
       " ('gotta', 9243),\n",
       " ('r', 8132),\n",
       " ('tho', 7696),\n",
       " ('tv', 6246),\n",
       " ('o', 6002),\n",
       " ('kinda', 5953),\n",
       " ('pic', 5945)]"
      ]
     },
     "execution_count": 148,
     "metadata": {},
     "output_type": "execute_result"
    }
   ],
   "source": [
    "import string\n",
    "from collections import Counter\n",
    "\n",
    "# Create a dictionary of acronym which will be used to get translations\n",
    "acronym_dictionary = dict(zip(acronyms.Acronym, acronyms.Translation))\n",
    "\n",
    "# Will be used to get rid of the punctuation in tweets (does not include | since we use it for our tokens and ' \n",
    "# to take care of don't, can't)\n",
    "punctuation = '!\"#$%&()*+,-./:;<=>?@[\\\\]^_`{}~'\n",
    "\n",
    "# Frequency table for acronyms\n",
    "acronyms_counter = Counter()\n",
    "\n",
    "# Loop on acronyms to replace those matched in the tweet by the corresponding translations\n",
    "# Return the tweet and the acronyms used\n",
    "def acronym_to_translation(tweet, acronyms_counter):\n",
    "    table = string.maketrans(punctuation,\" \" * len(punctuation))\n",
    "    tweet = str(tweet).translate(table)\n",
    "    words = tweet.split()\n",
    "    new_words = []\n",
    "    for i, word in enumerate(words):\n",
    "        if acronym_dictionary.has_key(word):\n",
    "            acronyms_counter[word] += 1\n",
    "            new_words.extend(acronym_dictionary[word].split())\n",
    "        else:\n",
    "            new_words.append(word)\n",
    "    return new_words\n",
    "\n",
    "data.SentimentText = data.SentimentText.apply(lambda tweet: acronym_to_translation(tweet, acronyms_counter))\n",
    "\n",
    "# Get and display top20 acronyms\n",
    "top20acronyms = acronyms_counter.most_common(20)\n",
    "top20acronyms"
   ]
  },
  {
   "cell_type": "code",
   "execution_count": 22,
   "metadata": {},
   "outputs": [
    {
     "name": "stdout",
     "output_type": "stream",
     "text": [
      "1) lol => laughing out loud : 59000\n",
      "2) u => you : 54557\n",
      "3) im => instant message : 51099\n",
      "4) 2 => too : 42645\n",
      "5) gonna => going to : 23716\n",
      "6) 4 => for : 18610\n",
      "7) dont => don't : 18363\n",
      "8) wanna => want to : 16357\n",
      "9) ok => okay : 16104\n",
      "10) ur => your : 12960\n",
      "11) omg => oh my god : 12178\n",
      "12) n => and : 10415\n",
      "13) ya => yeah : 9948\n",
      "14) gotta => got to : 9243\n",
      "15) r => are : 8132\n",
      "16) tho => though : 7696\n",
      "17) tv => television : 6246\n",
      "18) o => oh : 6002\n",
      "19) kinda => kind of : 5953\n",
      "20) pic => picture : 5945\n"
     ]
    }
   ],
   "source": [
    "# Just to better visualize the top 20 acronym\n",
    "for i, (acronym, value) in enumerate(top20acronyms):\n",
    "    print str(i + 1) + \") \" + acronym + \" => \" + acronym_dictionary[acronym] + \" : \" + str(value) "
   ]
  },
  {
   "cell_type": "code",
   "execution_count": 23,
   "metadata": {},
   "outputs": [
    {
     "data": {
      "text/plain": [
       "([<matplotlib.axis.XTick at 0x15be09890>,\n",
       "  <matplotlib.axis.XTick at 0x15be099d0>,\n",
       "  <matplotlib.axis.XTick at 0x15d2a3c90>,\n",
       "  <matplotlib.axis.XTick at 0x149d611d0>,\n",
       "  <matplotlib.axis.XTick at 0x149d61910>,\n",
       "  <matplotlib.axis.XTick at 0x149fa9110>,\n",
       "  <matplotlib.axis.XTick at 0x149fa9850>,\n",
       "  <matplotlib.axis.XTick at 0x149fa9f90>,\n",
       "  <matplotlib.axis.XTick at 0x14a06c810>,\n",
       "  <matplotlib.axis.XTick at 0x14a06ce90>,\n",
       "  <matplotlib.axis.XTick at 0x14a8ca750>,\n",
       "  <matplotlib.axis.XTick at 0x14a8cadd0>,\n",
       "  <matplotlib.axis.XTick at 0x14aa49550>,\n",
       "  <matplotlib.axis.XTick at 0x14aa49cd0>,\n",
       "  <matplotlib.axis.XTick at 0x14ab01410>,\n",
       "  <matplotlib.axis.XTick at 0x14ab01b90>,\n",
       "  <matplotlib.axis.XTick at 0x15360e710>,\n",
       "  <matplotlib.axis.XTick at 0x153c57890>,\n",
       "  <matplotlib.axis.XTick at 0x15be14850>,\n",
       "  <matplotlib.axis.XTick at 0x153229050>],\n",
       " <a list of 20 Text xticklabel objects>)"
      ]
     },
     "execution_count": 23,
     "metadata": {},
     "output_type": "execute_result"
    },
    {
     "data": {
      "image/png": "[encoded data removed]",
      "text/plain": [
       "<matplotlib.figure.Figure at 0x15d2a3d10>"
      ]
     },
     "metadata": {},
     "output_type": "display_data"
    }
   ],
   "source": [
    "# With a bar plot\n",
    "plt.close()\n",
    "top20acronym_keys = [x[0] for x in top20acronyms]\n",
    "top20acronym_values = [x[1] for x in top20acronyms]\n",
    "indexes = np.arange(len(top20acronym_keys))\n",
    "width = 0.7\n",
    "plt.bar(indexes, top20acronym_values, width)\n",
    "plt.xticks(indexes + width * 0.5, top20acronym_keys, rotation=\"vertical\")"
   ]
  },
  {
   "cell_type": "markdown",
   "metadata": {},
   "source": [
    "#### Replace all negations (e.g: not, no, never) by tag ||not||\n"
   ]
  },
  {
   "cell_type": "code",
   "execution_count": 149,
   "metadata": {},
   "outputs": [
    {
     "name": "stdout",
     "output_type": "stream",
     "text": [
      "['i', \"didn't\", 'realize', 'it', 'was', 'that', 'deep', 'geez', 'give', 'a', 'girl', 'a', 'warning', 'atleast']\n"
     ]
    }
   ],
   "source": [
    "print data.SentimentText[29]"
   ]
  },
  {
   "cell_type": "code",
   "execution_count": 123,
   "metadata": {},
   "outputs": [
    {
     "name": "stdout",
     "output_type": "stream",
     "text": [
      "['i', '||not||', 'realize', 'it', 'was', 'that', 'deep', 'geez', 'give', 'a', 'girl', 'a', 'warning', 'atleast']\n"
     ]
    }
   ],
   "source": [
    "# Transform the dataframe into a dictionary\n",
    "negation_dictionary = dict(zip(negation_words.Negation, negation_words.Tag))\n",
    "\n",
    "# Find a negation in a tweet and replace it by its tag\n",
    "def replace_negation(tweet):\n",
    "    return [negation_dictionary[word] if negation_dictionary.has_key(word) else word for word in tweet]\n",
    "    \n",
    "# Apply the function on every tweet\n",
    "data.SentimentText = data.SentimentText.apply(lambda tweet: replace_negation(tweet))\n",
    "print data.SentimentText[29]"
   ]
  },
  {
   "cell_type": "markdown",
   "metadata": {},
   "source": [
    "####  Replace a sequence of repeated characters by two caracters  \n"
   ]
  },
  {
   "cell_type": "code",
   "execution_count": 151,
   "metadata": {},
   "outputs": [
    {
     "data": {
      "text/html": [
       "<div style=\"max-height:1000px;max-width:1500px;overflow:auto;\">\n",
       "<table border=\"1\" class=\"dataframe\">\n",
       "  <thead>\n",
       "    <tr style=\"text-align: right;\">\n",
       "      <th></th>\n",
       "      <th>ItemID</th>\n",
       "      <th>Sentiment</th>\n",
       "      <th>SentimentSource</th>\n",
       "      <th>SentimentText</th>\n",
       "    </tr>\n",
       "  </thead>\n",
       "  <tbody>\n",
       "    <tr>\n",
       "      <th>1578604</th>\n",
       "      <td>1578620</td>\n",
       "      <td>1</td>\n",
       "      <td>Sentiment140</td>\n",
       "      <td>[zzzz, no, work, tomorrow, yayyy]</td>\n",
       "    </tr>\n",
       "    <tr>\n",
       "      <th>1578605</th>\n",
       "      <td>1578621</td>\n",
       "      <td>1</td>\n",
       "      <td>Sentiment140</td>\n",
       "      <td>[zzzzz, time, tomorrow, will, be, a, busy, day, for, serving, loving, people, love, you, all]</td>\n",
       "    </tr>\n",
       "    <tr>\n",
       "      <th>1578606</th>\n",
       "      <td>1578622</td>\n",
       "      <td>0</td>\n",
       "      <td>Sentiment140</td>\n",
       "      <td>[zzzzz, want, to, sleep, but, at, sister's, in, laws's, house]</td>\n",
       "    </tr>\n",
       "    <tr>\n",
       "      <th>1578607</th>\n",
       "      <td>1578623</td>\n",
       "      <td>1</td>\n",
       "      <td>Sentiment140</td>\n",
       "      <td>[zzzzzz, finally, night, tweeters]</td>\n",
       "    </tr>\n",
       "    <tr>\n",
       "      <th>1578608</th>\n",
       "      <td>1578624</td>\n",
       "      <td>1</td>\n",
       "      <td>Sentiment140</td>\n",
       "      <td>[zzzzzzz, sleep, well, people]</td>\n",
       "    </tr>\n",
       "    <tr>\n",
       "      <th>1578609</th>\n",
       "      <td>1578625</td>\n",
       "      <td>0</td>\n",
       "      <td>Sentiment140</td>\n",
       "      <td>[zzzzzzzzzz, wait, no, i, have, homework]</td>\n",
       "    </tr>\n",
       "    <tr>\n",
       "      <th>1578610</th>\n",
       "      <td>1578626</td>\n",
       "      <td>0</td>\n",
       "      <td>Sentiment140</td>\n",
       "      <td>[zzzzzzzzzzzzz, whatever, what, am, i, doing, up, again]</td>\n",
       "    </tr>\n",
       "    <tr>\n",
       "      <th>1578611</th>\n",
       "      <td>1578627</td>\n",
       "      <td>0</td>\n",
       "      <td>Sentiment140</td>\n",
       "      <td>[zzzzzzzzzzzzzzzzzzz, i, wish]</td>\n",
       "    </tr>\n",
       "  </tbody>\n",
       "</table>\n",
       "</div>"
      ],
      "text/plain": [
       "          ItemID  Sentiment SentimentSource  \\\n",
       "1578604  1578620          1    Sentiment140   \n",
       "1578605  1578621          1    Sentiment140   \n",
       "1578606  1578622          0    Sentiment140   \n",
       "1578607  1578623          1    Sentiment140   \n",
       "1578608  1578624          1    Sentiment140   \n",
       "1578609  1578625          0    Sentiment140   \n",
       "1578610  1578626          0    Sentiment140   \n",
       "1578611  1578627          0    Sentiment140   \n",
       "\n",
       "                                                                                         SentimentText  \n",
       "1578604                                                              [zzzz, no, work, tomorrow, yayyy]  \n",
       "1578605  [zzzzz, time, tomorrow, will, be, a, busy, day, for, serving, loving, people, love, you, all]  \n",
       "1578606                                 [zzzzz, want, to, sleep, but, at, sister's, in, laws's, house]  \n",
       "1578607                                                             [zzzzzz, finally, night, tweeters]  \n",
       "1578608                                                                 [zzzzzzz, sleep, well, people]  \n",
       "1578609                                                      [zzzzzzzzzz, wait, no, i, have, homework]  \n",
       "1578610                                       [zzzzzzzzzzzzz, whatever, what, am, i, doing, up, again]  \n",
       "1578611                                                                 [zzzzzzzzzzzzzzzzzzz, i, wish]  "
      ]
     },
     "execution_count": 151,
     "metadata": {},
     "output_type": "execute_result"
    }
   ],
   "source": [
    "data[1578604:]"
   ]
  },
  {
   "cell_type": "code",
   "execution_count": 152,
   "metadata": {},
   "outputs": [
    {
     "data": {
      "text/html": [
       "<div style=\"max-height:1000px;max-width:1500px;overflow:auto;\">\n",
       "<table border=\"1\" class=\"dataframe\">\n",
       "  <thead>\n",
       "    <tr style=\"text-align: right;\">\n",
       "      <th></th>\n",
       "      <th>ItemID</th>\n",
       "      <th>Sentiment</th>\n",
       "      <th>SentimentSource</th>\n",
       "      <th>SentimentText</th>\n",
       "    </tr>\n",
       "  </thead>\n",
       "  <tbody>\n",
       "    <tr>\n",
       "      <th>1578604</th>\n",
       "      <td>1578620</td>\n",
       "      <td>1</td>\n",
       "      <td>Sentiment140</td>\n",
       "      <td>[zz, no, work, tomorrow, yayy]</td>\n",
       "    </tr>\n",
       "    <tr>\n",
       "      <th>1578605</th>\n",
       "      <td>1578621</td>\n",
       "      <td>1</td>\n",
       "      <td>Sentiment140</td>\n",
       "      <td>[zz, time, tomorrow, will, be, a, busy, day, for, serving, loving, people, love, you, all]</td>\n",
       "    </tr>\n",
       "    <tr>\n",
       "      <th>1578606</th>\n",
       "      <td>1578622</td>\n",
       "      <td>0</td>\n",
       "      <td>Sentiment140</td>\n",
       "      <td>[zz, want, to, sleep, but, at, sister's, in, laws's, house]</td>\n",
       "    </tr>\n",
       "    <tr>\n",
       "      <th>1578607</th>\n",
       "      <td>1578623</td>\n",
       "      <td>1</td>\n",
       "      <td>Sentiment140</td>\n",
       "      <td>[zz, finally, night, tweeters]</td>\n",
       "    </tr>\n",
       "    <tr>\n",
       "      <th>1578608</th>\n",
       "      <td>1578624</td>\n",
       "      <td>1</td>\n",
       "      <td>Sentiment140</td>\n",
       "      <td>[zz, sleep, well, people]</td>\n",
       "    </tr>\n",
       "    <tr>\n",
       "      <th>1578609</th>\n",
       "      <td>1578625</td>\n",
       "      <td>0</td>\n",
       "      <td>Sentiment140</td>\n",
       "      <td>[zz, wait, no, i, have, homework]</td>\n",
       "    </tr>\n",
       "    <tr>\n",
       "      <th>1578610</th>\n",
       "      <td>1578626</td>\n",
       "      <td>0</td>\n",
       "      <td>Sentiment140</td>\n",
       "      <td>[zz, whatever, what, am, i, doing, up, again]</td>\n",
       "    </tr>\n",
       "    <tr>\n",
       "      <th>1578611</th>\n",
       "      <td>1578627</td>\n",
       "      <td>0</td>\n",
       "      <td>Sentiment140</td>\n",
       "      <td>[zz, i, wish]</td>\n",
       "    </tr>\n",
       "  </tbody>\n",
       "</table>\n",
       "</div>"
      ],
      "text/plain": [
       "          ItemID  Sentiment SentimentSource  \\\n",
       "1578604  1578620          1    Sentiment140   \n",
       "1578605  1578621          1    Sentiment140   \n",
       "1578606  1578622          0    Sentiment140   \n",
       "1578607  1578623          1    Sentiment140   \n",
       "1578608  1578624          1    Sentiment140   \n",
       "1578609  1578625          0    Sentiment140   \n",
       "1578610  1578626          0    Sentiment140   \n",
       "1578611  1578627          0    Sentiment140   \n",
       "\n",
       "                                                                                      SentimentText  \n",
       "1578604                                                              [zz, no, work, tomorrow, yayy]  \n",
       "1578605  [zz, time, tomorrow, will, be, a, busy, day, for, serving, loving, people, love, you, all]  \n",
       "1578606                                 [zz, want, to, sleep, but, at, sister's, in, laws's, house]  \n",
       "1578607                                                              [zz, finally, night, tweeters]  \n",
       "1578608                                                                   [zz, sleep, well, people]  \n",
       "1578609                                                           [zz, wait, no, i, have, homework]  \n",
       "1578610                                               [zz, whatever, what, am, i, doing, up, again]  \n",
       "1578611                                                                               [zz, i, wish]  "
      ]
     },
     "execution_count": 152,
     "metadata": {},
     "output_type": "execute_result"
    }
   ],
   "source": [
    "pattern = re.compile(r'(.)\\1*')\n",
    "\n",
    "def reduce_sequence_word(word):\n",
    "    return ''.join([match.group()[:2] if len(match.group()) > 2 else match.group() for match in pattern.finditer(word)])\n",
    "\n",
    "def reduce_sequence_tweet(tweet):\n",
    "    return [reduce_sequence_word(word) for word in tweet]\n",
    "\n",
    "data.SentimentText = data.SentimentText.apply(lambda tweet: reduce_sequence_tweet(tweet))\n",
    "data[1578604:]"
   ]
  },
  {
   "cell_type": "markdown",
   "metadata": {},
   "source": [
    "Machine Learning\n",
    "-------------\n",
    "After completing the preprocessing part, we can now focus on the machine learning part.  \n",
    "There are three major methods used to classify a sentence in a given category, in our case, positive(1) or negative(0): SVM, Naive Bayes and N-Gram.  \n",
    "#### We focus only on the Naive Bayes and N-Gram that are the most common used. \n",
    "---------------------\n",
    "\n",
    "### Naive Bayes\n",
    "\n",
    "The **Naive Bayes** is a very famous learning algorithm due to its simplicity and its efficiency particularly for text classification. It is based on the application of **Baye's rule** given by:  \n",
    "\n",
    "$$\n",
    "P(C=c|D=d)=\\frac{P(D=d|C=c)P(C=c)}{P(D=d)}\n",
    "$$\n",
    "\n",
    "where $D$ denotes the document and $C$ the category, $d$ and $c$ are instances of $D$ and $C$, $P(D=d)=\\sum_{c\\in C}P(D=d|C=c)P(C=c)$.We can simplify this expression by,  \n",
    "\n",
    "$$\n",
    "P(c|d)=\\frac{P(d|c)P(c)}{P(d)}\n",
    "$$\n",
    "\n",
    "In our case, a tweet $d$ is represented by a vector of K attributes such as $d=(w_1, w_2, ..., w_K)$. Computing P(d|c) is not trivial and that's why the Naive Bayes introduces the assumption that all of the feature values $w_j$ are independent given the category label $c$. That is, for $i \\neq j$, $w_i$ and $w_j$ are conditionally independent given the category label $c$. So the Baye's rule can be rewritten as,\n",
    "\n",
    "$$\n",
    "P(c|d) = P(c) \\times \\frac{\\prod_{j=1}^K P(w_j|c)}{P(d)}\n",
    "$$\n",
    "\n",
    "Based on this equation, maximum a posterior (MAP) classifier can be constructing by seeking the optimal category which maximizes the posterior $P(c|d)$:  \n",
    "\n",
    "$$\n",
    "c* = arg \\max_{c \\in C} {P(c|d)}\\\\\n",
    "c* = arg \\max_{c \\in C} \\left\\{P(c) \\times \\frac{\\prod_{j=1}^K P(w_j|c)}{P(d)}\\right\\}\\\\\n",
    "c* = arg \\max_{c \\in C} \\left\\{P(c) \\times \\prod_{j=1}^K P(w_j|c)\\right\\}\n",
    "$$\n",
    "\n",
    "Note that $P(d)$ is removed since it is a constant for every category $c$.  \n",
    "There are several variants of Naive Bayes classifiers such as:\n",
    "\n",
    "- the **Multi-variate Bernoulli Model**: Also called binomial model, useful if our feature vectors are binary (e.g 0s and 1s). An application can be text classification with bag of words model where the 0s 1s are \"word does not occur in the document\" and \"word occurs in the document\" respectively.  \n",
    "- the **Multinomial Model**: Typically used for discrete counts. In text classification, we extend the Bernoulli model further by counting the number of times a word $w_i$ appears over the number of words rather than saying 0 or 1 if word occurs or not.  \n",
    "- the **Gaussian Model**: We assume that features follow a normal distribution. Instead of discrete counts, we have continuous features.\n",
    "\n",
    "For text classification, the most used considered as the best choice is the **Multinomial Naive Bayes**.  \n",
    "The **prior distribution $P(c)$** can be used to incorporate additional assumptions about the relative frequencies of classes. It is computed by:  \n",
    "\n",
    "$$\n",
    "P(c)=\\frac{N_i}{N}\n",
    "$$\n",
    "\n",
    "where $N$ is the total number of training tweets and $N_i$ is the number of training tweets in class $c$.  \n",
    "The **likelihood** $P(w_j|c)$ is usually computed by:  \n",
    "\n",
    "$$\n",
    "P(w_j|c)=\\frac{1 + count(w_j, c)}{|V| + N_i}\n",
    "$$\n",
    "\n",
    "where $count(w_j, c)$ is the number of times that word $w_j$ occurs within the training tweets of class $c$, and $|V|=\\sum_jw_j$ the size of the vocabulary. This estimation uses the simplest smoothing method to solve **the zero-probability problem**, that arises when our model encounters a word seen in the test set but not in the training set, **Laplace** or add-one since we use 1 as constant. We will see that Laplace smoothing method is not really effective compared to other smoothing methods used in language models.\n",
    "\n",
    "#### Baseline\n",
    "\n",
    "We use the **Multinomial Naive Bayes as learning algorithm with the Laplace smoothing** representing the classic way of doing text classification. Since we need to extract features from our data set of tweets, we use the **bag of words model** to represent it.  \n",
    "The bag of words model is a simplifying representation of a document where it is represented as a bag of its words without taking consideration of the grammar or word order. In text classification, the frequency of each word is used as a feature for training a classifier.  \n",
    "For simplicity we use the library scikit-learn.  \n",
    "Let's first start by dividing our data set into training and test set."
   ]
  },
  {
   "cell_type": "code",
   "execution_count": 89,
   "metadata": {},
   "outputs": [
    {
     "name": "stdout",
     "output_type": "stream",
     "text": [
      "size of training set: 1183958\n",
      "size of test set: 394654\n"
     ]
    }
   ],
   "source": [
    "def make_training_test_sets(data):\n",
    "    \n",
    "    # Before making the training and test set, we shuffle our data set in order to avoid keeping any order\n",
    "    data_shuffled = data.iloc[np.random.permutation(len(data))]\n",
    "    data_shuffled = data_shuffled.reset_index(drop=True)\n",
    "\n",
    "    # Join the words back into one string separated by space for each tweet\n",
    "    data_shuffled.SentimentText = data_shuffled.SentimentText.apply(lambda tweet: \" \".join(tweet))\n",
    "\n",
    "    # Separate positive and negative tweets\n",
    "    positive_tweets = data_shuffled[data_shuffled.Sentiment == 1]\n",
    "    negative_tweets = data_shuffled[data_shuffled.Sentiment == 0]\n",
    "\n",
    "    # Cutoff, 3/4 for training of each sentiment and 1/4 of each sentiment for testing\n",
    "    positive_tweets_cutoff = int(len(positive_tweets) * (3./4.))\n",
    "    negative_tweets_cutoff = int(len(negative_tweets) * (3./4.))\n",
    "\n",
    "    # Make the training and test set\n",
    "    training_tweets = pd.concat([positive_tweets[:positive_tweets_cutoff], negative_tweets[:negative_tweets_cutoff]])\n",
    "    test_tweets = pd.concat([positive_tweets[positive_tweets_cutoff:], negative_tweets[negative_tweets_cutoff:]])\n",
    "\n",
    "    # We suffle the training and test set to break the order of tweets based on their sentiment\n",
    "    training_tweets = training_tweets.iloc[np.random.permutation(len(training_tweets))].reset_index(drop=True)\n",
    "    test_tweets = test_tweets.iloc[np.random.permutation(len(test_tweets))].reset_index(drop=True)\n",
    "    \n",
    "    return training_tweets, test_tweets\n",
    "\n",
    "training_tweets, test_tweets = make_training_test_sets(data)\n",
    "\n",
    "print \"size of training set: \" + str(len(training_tweets))\n",
    "print \"size of test set: \" + str(len(test_tweets))\n"
   ]
  },
  {
   "cell_type": "markdown",
   "metadata": {},
   "source": [
    "Once the training set and the test set are created we need a third set of data called the **validation set**.  \n",
    "It is really useful because it will be **used to validate our model against unseen data and tune the possible parameters of the learning algorithm** to avoid underfitting and overfitting for example.  \n",
    "We need this validation set because our test set should be used only to verify how well the model will **generalize**. If we use the test set rather than the validation set, our model could be **overly optimistic and twist our results**.\n",
    "To make the validation set, there are two main options:\n",
    "- Split the training set into two parts (60%/20%) with a ratio 2:8 where each part contains an equal distribution of example types. We train the classifier with the largest part, and make prediction with the smaller one to validate the model. This technique works well but has the disadvantage of our classifier not getting trained and validated on all examples in the data set (without counting the test set).\n",
    "- The **K-fold cross-validation**. We split the data set into k parts, hold out one, combine the others and train on them, then validate against the held-out portion. We repeat that process k times (each fold), holding out a different portion each time. Then we average the score measured for each fold to get a more accurate estimation of our model's performance.  \n",
    "\n",
    "We split the training data into 10 folds and cross validate on them using scikit-learn. The number of K-folds is arbitrary and usually set to 10 it is not a rule. In fact, determine the best K is still an unsolved problem but with lower K: computationally cheaper, less variance, more bias. With large K: computationally expensive, higher variance, lower bias."
   ]
  },
  {
   "cell_type": "code",
   "execution_count": 126,
   "metadata": {},
   "outputs": [
    {
     "name": "stdout",
     "output_type": "stream",
     "text": [
      "Total tweets classified: 1183958\n",
      "Score: 0.77653600187\n",
      "Confusion matrix:\n",
      "[[465021 126305]\n",
      " [136321 456311]]\n"
     ]
    }
   ],
   "source": [
    "from sklearn.cross_validation import KFold\n",
    "from sklearn.metrics import confusion_matrix, f1_score\n",
    "from sklearn.feature_extraction.text import CountVectorizer\n",
    "from sklearn.naive_bayes import MultinomialNB\n",
    "\n",
    "def classify(training_tweets, test_tweets, ngram=(1, 1)):\n",
    "    # F1 scores for each fold\n",
    "    scores = []\n",
    "\n",
    "    # Provides train/test indices to split data in train, validation sets.\n",
    "    k_fold = KFold(n=len(training_tweets), n_folds=10)\n",
    "\n",
    "    # Used to convert a collection of text docuements to a matrix of token counts => Bag of words\n",
    "    count_vectorizer = CountVectorizer(ngram_range=ngram)\n",
    "\n",
    "    # Confusion matrix with TP/FP/TN/FN\n",
    "    confusion = np.array([[0, 0], [0, 0]])\n",
    "\n",
    "    for training_indices, validation_indices in k_fold:\n",
    "        training_features = count_vectorizer.fit_transform(training_tweets.iloc[training_indices]['SentimentText'].values)\n",
    "        training_labels = training_tweets.iloc[training_indices]['Sentiment'].values\n",
    "\n",
    "        validation_features = count_vectorizer.transform(training_tweets.iloc[validation_indices]['SentimentText'].values)\n",
    "        validation_labels = training_tweets.iloc[validation_indices]['Sentiment'].values\n",
    "\n",
    "        classifier = MultinomialNB()\n",
    "        classifier.fit(training_features, training_labels)\n",
    "        validation_predictions = classifier.predict(validation_features)\n",
    "\n",
    "        confusion += confusion_matrix(validation_labels, validation_predictions)\n",
    "        score = f1_score(validation_labels, validation_predictions)\n",
    "        scores.append(score)\n",
    "    \n",
    "    return (sum(scores) / len(scores)), confusion\n",
    "\n",
    "score, confusion = classify(training_tweets, test_tweets)\n",
    "\n",
    "print 'Total tweets classified: ' + str(len(training_tweets))\n",
    "print 'Score: ' +  str(sum(scores) / len(scores))\n",
    "print 'Confusion matrix:'\n",
    "print(confusion)"
   ]
  },
  {
   "cell_type": "markdown",
   "metadata": {},
   "source": [
    "We get about 0.77 using our baseline.  \n",
    "We have used two methods to evaluate our classifier, the F1 score and a confusion matrix.  \n",
    "The **F1 Score** can be interpreted as a weighted average of the precision and recall, where an F1 score reaches its best value at 1 and worst score at 0. It a **measure of a classifier's accuracy**. The F1 score is given by the following formula,\n",
    "\n",
    "$$\n",
    "F1 = \\frac{2 \\times (precision \\times recall)}{(precision + recall)}\n",
    "$$\n",
    "\n",
    "where the precision is the number of true positives (the number of items correctly labeled as belonging to the positive class) divided by the total number of elements labeled as belonging to the positive class,\n",
    "\n",
    "$$\n",
    "Precision = \\frac{TP}{TP+FP}\n",
    "$$\n",
    "\n",
    "and the recall is the number of true positives divided by the total number of elements that **actually** belong to the positive class,\n",
    "\n",
    "$$\n",
    "Recall = \\frac{TP}{TP+FN}\n",
    "$$\n",
    "\n",
    "A precision score of 1.0 means that every result retrieved was relevant (but says nothing about whether all relevant elements were retrieved)  whereas a recall score of 1.0 means that all relevant douments were retrieved (but says nothing about how many irrelevant documents were also retrieved).  \n",
    "There is a **trade-off between precision and recall** where increasing one decrease the other and we usually use measures that combine precision and recall such as F-measure or MCC.  \n",
    "A **confustion matrix** helps to visualize how the model did during the classification and evaluate its accuracy. In our case we get about 156715 false positive tweets and 139132 false negative tweets. It is \"about\" because these numbers can vary depending on how we shuffle our data for example.  \n",
    "We use the F1 score for each fold, which we then average together for **a mean accuracy** on the entire training set.  \n",
    "Notice that we still didn't use our test set, since we are going to tune our classifier for improving its results.  \n",
    "One more thing to notice is that we use \"count_vectorizer.transform\" and not \"count_vectorizer.fit_transform\" for the validation set since we already learn the vocabulary from the training set and so, we just want its bag of words according to the vocabulary learnt."
   ]
  },
  {
   "cell_type": "code",
   "execution_count": 91,
   "metadata": {},
   "outputs": [
    {
     "name": "stdout",
     "output_type": "stream",
     "text": [
      "Confusion matrix without normalization\n"
     ]
    },
    {
     "data": {
      "image/png": "[encoded data removed]",
      "text/plain": [
       "<matplotlib.figure.Figure at 0x2019607d0>"
      ]
     },
     "metadata": {},
     "output_type": "display_data"
    }
   ],
   "source": [
    "labels = ['Positive', 'Negative']\n",
    "def plot_confusion_matrix(cm, labels, title='Confusion matrix', cmap=plt.cm.Blues):\n",
    "    plt.imshow(cm, interpolation='nearest', cmap=cmap)\n",
    "    plt.title(title)\n",
    "    plt.colorbar()\n",
    "    tick_marks = np.arange(len(labels))\n",
    "    plt.xticks(tick_marks, labels, rotation=45)\n",
    "    plt.yticks(tick_marks, labels)\n",
    "    plt.tight_layout()\n",
    "    plt.ylabel('True label')\n",
    "    plt.xlabel('Predicted label')\n",
    "    \n",
    "print 'Confusion matrix without normalization'\n",
    "plt.figure()\n",
    "plot_confusion_matrix(confusion, labels)"
   ]
  },
  {
   "cell_type": "code",
   "execution_count": 92,
   "metadata": {},
   "outputs": [
    {
     "name": "stdout",
     "output_type": "stream",
     "text": [
      "Confusion matrix normalized\n"
     ]
    },
    {
     "data": {
      "image/png": "[encoded data removed]",
      "text/plain": [
       "<matplotlib.figure.Figure at 0x1d6769490>"
      ]
     },
     "metadata": {},
     "output_type": "display_data"
    }
   ],
   "source": [
    "confusion_normalized = confusion.astype(float) / confusion.sum(axis=1)[:, np.newaxis]\n",
    "print 'Confusion matrix normalized'\n",
    "plt.figure()\n",
    "plot_confusion_matrix(confusion_normalized, labels, title='Confusion matrix normalized')"
   ]
  },
  {
   "cell_type": "markdown",
   "metadata": {},
   "source": [
    "#### Improvements\n",
    "\n",
    "Now we have our baseline with a accuracy about 0.77, let's try to improve our accuracy score.  \n",
    "\n",
    "#### Remove all stop words since they should not be useful\n",
    "Recall that stop words usually refer to the most common words in language such as: \"the\", \"of\" and so on, they do not indicate any valuable information about the sentiment of a sentence. "
   ]
  },
  {
   "cell_type": "code",
   "execution_count": 153,
   "metadata": {},
   "outputs": [
    {
     "data": {
      "text/plain": [
       "[('||target||', 780664),\n",
       " ('i', 778070),\n",
       " ('to', 614954),\n",
       " ('the', 538566),\n",
       " ('a', 383910),\n",
       " ('you', 341545),\n",
       " ('my', 336980),\n",
       " ('and', 316853),\n",
       " ('is', 236393),\n",
       " ('for', 236018),\n",
       " ('it', 235435),\n",
       " ('in', 217350),\n",
       " ('of', 192621),\n",
       " ('on', 169466),\n",
       " ('me', 163900),\n",
       " ('so', 158457),\n",
       " ('have', 150041),\n",
       " ('that', 146260),\n",
       " ('out', 143567),\n",
       " ('but', 132969)]"
      ]
     },
     "execution_count": 153,
     "metadata": {},
     "output_type": "execute_result"
    }
   ],
   "source": [
    "# We build a word frequency table to see which words are the most used\n",
    "word_frequency_table = Counter()\n",
    "\n",
    "def count_word(tweet):\n",
    "    for word in tweet:\n",
    "        word_frequency_table[word] += 1\n",
    "    return tweet\n",
    "\n",
    "data.SentimentText.map(lambda tweet: count_word(tweet))\n",
    "word_frequency_table.most_common()[:20]"
   ]
  },
  {
   "cell_type": "markdown",
   "metadata": {},
   "source": [
    "The most common words are \"i\", \"to\", \"the\", \"a\" etc.  \n",
    "We can also derive word frequency table."
   ]
  },
  {
   "cell_type": "code",
   "execution_count": 95,
   "metadata": {},
   "outputs": [
    {
     "name": "stdout",
     "output_type": "stream",
     "text": [
      "[('||url||', 75415), ('||target||', 780663), ('||not||', 414873), ('||neg||', 11520), ('||pos||', 20232)]\n"
     ]
    }
   ],
   "source": [
    "# list of tags\n",
    "tags = ['||target||', '||url||', '||pos||', '||neg||', '||not||']\n",
    "\n",
    "# list of tuples representing tags with their corresponding count\n",
    "tag_counter = [(w, c) for w,c in word_frequency_table.iteritems() if w in tags]\n",
    "\n",
    "print tag_counter"
   ]
  },
  {
   "cell_type": "code",
   "execution_count": 96,
   "metadata": {},
   "outputs": [
    {
     "data": {
      "text/plain": [
       "([<matplotlib.axis.XTick at 0x14adf0d90>,\n",
       "  <matplotlib.axis.XTick at 0x1521d2150>,\n",
       "  <matplotlib.axis.XTick at 0x1d675dad0>,\n",
       "  <matplotlib.axis.XTick at 0x14e47a790>,\n",
       "  <matplotlib.axis.XTick at 0x14e47aed0>],\n",
       " <a list of 5 Text xticklabel objects>)"
      ]
     },
     "execution_count": 96,
     "metadata": {},
     "output_type": "execute_result"
    },
    {
     "data": {
      "image/png": "[encoded data removed]",
      "text/plain": [
       "<matplotlib.figure.Figure at 0x1d675da50>"
      ]
     },
     "metadata": {},
     "output_type": "display_data"
    }
   ],
   "source": [
    "plt.close()\n",
    "tag_counter_keys = [x[0] for x in tag_counter]\n",
    "tag_counter_values = [x[1] for x in tag_counter]\n",
    "indexes = np.arange(len(tag_counter_keys))\n",
    "width = 0.7\n",
    "plt.bar(indexes, tag_counter_values, width)\n",
    "plt.xticks(indexes + width * 0.5, tag_counter_keys, rotation=\"vertical\")"
   ]
  },
  {
   "cell_type": "code",
   "execution_count": 97,
   "metadata": {},
   "outputs": [
    {
     "name": "stdout",
     "output_type": "stream",
     "text": [
      "0                                                                                              [sad, apl, friend]\n",
      "1                                                                                         [missed, moon, trailer]\n",
      "2                                                                                           [god, 7, 30, ||pos||]\n",
      "3     [omgaga, instant, message, sooo, instant, message, gunna, cry, dentist, 11, suposed, a, crown, put, 30mins]\n",
      "4                                                                              [mi, boyfriend, cheating, ||neg||]\n",
      "5                                                                                                         [worry]\n",
      "6                                                                            [juuuuuuuuuuuuuuuuussssst, relaxing]\n",
      "7                                                           [sunny, work, tomorrow, ||neg||, television, tonight]\n",
      "8                                                                                        [handed, uniform, today]\n",
      "9                                                                                        [hmmmm, number, ||pos||]\n",
      "10                                                                                                     [positive]\n",
      "11                                                                                  [haters, face, day, 112, 102]\n",
      "12                                                                                              [weekend, sucked]\n",
      "13                                                                           [jailbait, isnt, showing, australia]\n",
      "14                                                                                                          [win]\n",
      "15                                                                                                         [feel]\n",
      "16                                                 [awhhe, man, completely, useless, rt, funny, twitter, ||url||]\n",
      "17                                                       [feeling, strangely, fine, listen, semisonic, celebrate]\n",
      "18                                                                                   [huge, roll, thunder, scary]\n",
      "19                                                       [cut, beard, growing, a, year, start, ||target||, happy]\n",
      "Name: SentimentText, dtype: object\n"
     ]
    }
   ],
   "source": [
    "# Transform the dataframe into a dictionary\n",
    "stopword_dictionary = dict.fromkeys(stops.Word, None)\n",
    "\n",
    "# Remove stopword from tweets\n",
    "def remove_stopwords(tweet):\n",
    "    tweet = [stopword_dictionary[word] if stopword_dictionary.has_key(word) else word for word in tweet]\n",
    "    return [word for word in tweet if word]\n",
    "\n",
    "data.SentimentText = data.SentimentText.apply(lambda tweet: remove_stopwords(tweet))\n",
    "print data.SentimentText.head(20)"
   ]
  },
  {
   "cell_type": "code",
   "execution_count": 98,
   "metadata": {},
   "outputs": [
    {
     "name": "stdout",
     "output_type": "stream",
     "text": [
      "[('||target||', 780663), ('||not||', 414873), ('a', 383910), ('good', 93695), ('day', 84996), ('like', 78959), ('||url||', 75415), ('today', 68974), ('love', 68600), ('laughing', 66411), ('work', 64029), ('loud', 61141), ('time', 57864), ('message', 54279), ('instant', 52222), ('night', 47055), ('home', 39879), ('yeah', 36746), ('tomorrow', 36206), ('great', 34086)]\n"
     ]
    }
   ],
   "source": [
    "# Most common words after deleting stop words\n",
    "word_frequency_table = Counter()\n",
    "\n",
    "data.SentimentText.map(lambda tweet: count_word(tweet))\n",
    "print word_frequency_table.most_common()[:20]"
   ]
  },
  {
   "cell_type": "markdown",
   "metadata": {},
   "source": [
    "Now the stop words have been removed, let's see if we have made any improvement."
   ]
  },
  {
   "cell_type": "code",
   "execution_count": 100,
   "metadata": {},
   "outputs": [
    {
     "name": "stdout",
     "output_type": "stream",
     "text": [
      "Total tweets classified: 1183958\n",
      "Score: 0.758623708326\n",
      "Confusion matrix:\n",
      "[[437311 154015]\n",
      " [136343 456289]]\n"
     ]
    }
   ],
   "source": [
    "training_tweets_nosw, test_tweets_nosw = make_training_test_sets(data)\n",
    "score, confusion = classify(training_tweets_nosw, test_tweets_nosw)\n",
    "print 'Total tweets classified: ' + str(len(training_tweets_nosw))\n",
    "print 'Score: ' + str(score)\n",
    "print 'Confusion matrix:'\n",
    "print(confusion)"
   ]
  },
  {
   "cell_type": "markdown",
   "metadata": {},
   "source": [
    "According to the results, we loose 0.02 points by removing stop words using our list of stop words.\n",
    "\n",
    "#### Stemming words using NLTK(Natural Language Toolkit)\n",
    "Stemming is the process by which endings are removed from words in order to remove things like tense or plurality."
   ]
  },
  {
   "cell_type": "code",
   "execution_count": 113,
   "metadata": {},
   "outputs": [
    {
     "data": {
      "text/plain": [
       "0                                                                                                             [is, so, sad, for, my, apl, friend]\n",
       "1                                                                                                              [i, miss, the, new, moon, trailer]\n",
       "2                                                                                                      [oh, my, god, it, alreadi, 7, 30, ||pos||]\n",
       "3     [omgaga, instant, messag, soo, instant, messag, gunna, cri, i'v, been, at, thi, dentist, sinc, 11, i, wa, supos, too, just, get, a, crow...\n",
       "4                                                                                           [i, think, mi, boyfriend, is, cheat, on, me, ||neg||]\n",
       "5                                                                                                                 [or, i, just, worri, too, much]\n",
       "6                                                                                                                                 [juusst, relax]\n",
       "7                                                                                       [sunni, again, work, tomorrow, ||neg||, televis, tonight]\n",
       "8                                                                                           [hand, in, my, uniform, today, i, miss, you, alreadi]\n",
       "9                                                                                                 [hmm, i, wonder, how, she, my, number, ||pos||]\n",
       "10                                                                                                                 [i, must, think, about, posit]\n",
       "11                                                                             [thank, to, all, the, hater, up, in, my, face, all, day, 112, 102]\n",
       "12                                                                                                              [thi, weekend, ha, suck, so, far]\n",
       "13                                                                                               [jailbait, isnt, show, in, australia, ani, more]\n",
       "14                                                                                                                     [okay, that, it, you, win]\n",
       "15                                                                                                       [thi, is, the, way, i, feel, right, now]\n",
       "16                                                      [awhh, man, i'm, complet, useless, rt, now, funni, all, i, can, do, is, twitter, ||url||]\n",
       "17                                                              [feel, strang, fine, now, i'm, go, to, go, listen, to, some, semison, to, celebr]\n",
       "18                                                                                                [huge, roll, of, thunder, just, now, so, scari]\n",
       "19    [i, just, cut, my, beard, off, it', onli, been, grow, for, well, over, a, year, i'm, go, to, start, it, over, ||target||, is, happi, in,...\n",
       "Name: SentimentText, dtype: object"
      ]
     },
     "execution_count": 113,
     "metadata": {},
     "output_type": "execute_result"
    }
   ],
   "source": [
    "import nltk\n",
    "\n",
    "pstemmer = nltk.PorterStemmer()\n",
    "def stemming_words(tweet):\n",
    "    return [pstemmer.stem_word(word) if word not in tags else word for word in tweet]\n",
    "\n",
    "data.SentimentText = data.SentimentText.apply(lambda tweet: stemming_words(tweet))\n",
    "print data.SentimentText.head(20)"
   ]
  },
  {
   "cell_type": "markdown",
   "metadata": {},
   "source": [
    "Let's check our accuracy score using stemming."
   ]
  },
  {
   "cell_type": "code",
   "execution_count": 114,
   "metadata": {},
   "outputs": [
    {
     "name": "stdout",
     "output_type": "stream",
     "text": [
      "Total tweets classified: 1183958\n",
      "Score: 0.773106857186\n",
      "Confusion matrix:\n",
      "[[462537 128789]\n",
      " [138039 454593]]\n"
     ]
    }
   ],
   "source": [
    "training_tweets_stems, test_tweets_stems = make_training_test_sets(data)\n",
    "score, confusion = classify(training_tweets_stems, test_tweets_stems)\n",
    "print 'Total tweets classified: ' + str(len(training_tweets_stems))\n",
    "print 'Score: ' + str(score)\n",
    "print 'Confusion matrix:'\n",
    "print(confusion)"
   ]
  },
  {
   "cell_type": "markdown",
   "metadata": {},
   "source": [
    "As shown above, the stemming process has decreased the result to 0.002, so this process is not useful and does not improve the accuracy score in our case."
   ]
  },
  {
   "cell_type": "markdown",
   "metadata": {},
   "source": [
    "### Language Models\n",
    "\n",
    "On the other hand, **language models are models assigning probabilities to sequence of words**.  \n",
    "**The quality of a language model can be measured** by the empirical perplexity (or entropy) using:\n",
    "\n",
    "$$\n",
    "Perplexity=T\\sqrt \\frac{1}{P(w_1,...,w_T)}\\\\\n",
    "Entropy = log_2 Perplexity\n",
    "$$\n",
    "\n",
    "The goal is to minimize the perplexity which is the same as maximizing probability.\n",
    "\n",
    "An **N-Gram model** is a type of probabilistic language model for predicting the next item in such a sequence in the form of (n - 1) order Markov Model. The **Markov assumption** is the probability of a word depends only on the probability of a limited history.\n",
    "\n",
    "$$\n",
    "P(w_i|w_1, ..., w_{i-1}) = P(w_i|w_{i-n+1}, ..., w_{i-1})\n",
    "$$\n",
    "\n",
    "A straightforward maximum likelihood estimate of n-gram probabilities from a corpus is given by the observed frequency,\n",
    "\n",
    "$$\n",
    "P(w_i|w_{i-n+1}, ..., w_{i-1}) = \\frac{count(w_{i-n+1}, ..., w_i)}{count(w_{i-n+1}, ..., w_{i-1})}\n",
    "$$\n",
    "\n",
    "There are several kind of n-grams but the most common are the unigram, bigram and trigram.  \n",
    "The **unigram model** make the assumption that **every word is independent** and so we compute the probability of a sequence using the following formula:  \n",
    "\n",
    "$$\n",
    "P(w_1, w_2, ..., w_n) = \\prod_i P(w_i)\n",
    "$$\n",
    "\n",
    "In the case of the **bigram model** we make the assumption that **a word is dependent of its previous word**:  \n",
    "\n",
    "$$\n",
    "P(w_i | w_1, w_2, ..., w_{i-1}) \\approx P(w_i | w_{i-1})\n",
    "$$\n",
    "\n",
    "To estimate the n-gram probabilities, we need to compute the **Maximum Likelihood Estimates**.  \n",
    "Unigram:\n",
    "\n",
    "$$\n",
    "P(w_i)=\\frac{C(w_i)}{N}\n",
    "$$\n",
    "\n",
    "Bigram:\n",
    "\n",
    "$$\n",
    "P(w_i, w_j)=\\frac{count(w_i, w_j)}{N}\\\\\n",
    "P(w_j|w_i)=\\frac{P(w_i, w_j)}{P(w_i)}=\\frac{count(w_i, w_j)}{\\sum_wcount(w_i, w)}=\\frac{count(w_i, w_j)}{count(w_i)}\n",
    "$$\n",
    "\n",
    "Where N is the number of words, C means count, $w_i$ and $w_j$ are words.  \n",
    "There are two main practical issues:\n",
    "- We compute everything in **log space** (log probabilities) to avoid underflow (multiplying so many probabilities can lead to too small number) and because adding is faster than multiplying ($p_1\\times p_2\\times p_3 = log_{p_1} + log_{p_2} + log_{p_3}$)\n",
    "- We use **smoothing techniques** such as Laplace, Witten-Bell Discounting, Good-Turing Discounting to deal with unseen words in the training occuring in the test set.  \n",
    "\n",
    "An N-gram language model can be applied to text classification like Naive Bayes model does. A tweet is categorized according to,\n",
    "\n",
    "$$\n",
    "c* = arg \\max_{c \\in C} {P(c|d)}\\\n",
    "$$\n",
    "\n",
    "and using Baye's rule, this can be rewritten as\n",
    "\n",
    "$$\n",
    "c* = arg \\max_{c \\in C} \\{P(c)P(d|c)\\}\\\\\n",
    "c* = arg \\max_{c \\in C} \\left\\{P(c) \\times \\prod_{i=1}^T P(w_i|w_{i-n+1}, ..., w_{i-1}, c)\\right\\}\\\\\n",
    "c* = arg \\max_{c \\in C} \\left\\{P(c) \\times \\prod_{i=1}^T P_c(w_i|w_{i-n+1}, ..., w_{i-1})\\right\\}\n",
    "$$\n",
    "\n",
    "$P(d|c)$ is the likelihood of $d$ under category $c$ which can be computed by an n-gram language model.  \n",
    "** An important note is that n-gram classifiers are in fact a generalization of Naive Bayes. A unigram classifier with Laplace smoothing corresponds exactly to the traditional naive Bayes classifier. **  \n",
    "\n",
    "Since we use bag of words model, meaning we translate this sentence: \"I don't like chocolate\" into \"I\", \"don't\", \"like\", \"chocolate\", we could try to use bigram model to take care of negation with \"don't like\" for this example. We are still going to use Laplace smoothing but we use the parameter ngram_range in CountVectorizer to add the bigram features.\n"
   ]
  },
  {
   "cell_type": "code",
   "execution_count": 129,
   "metadata": {},
   "outputs": [
    {
     "name": "stdout",
     "output_type": "stream",
     "text": [
      "Total tweets classified: 1183958\n",
      "Score: 0.784149223247\n",
      "Confusion matrix:\n",
      "[[480120 111206]\n",
      " [138700 453932]]\n"
     ]
    }
   ],
   "source": [
    "score, confusion = classify(training_tweets, test_tweets, (2, 2))\n",
    "\n",
    "print 'Total tweets classified: ' + str(len(training_tweets))\n",
    "print 'Score: ' +  str(score)\n",
    "print 'Confusion matrix:'\n",
    "print(confusion)"
   ]
  },
  {
   "cell_type": "markdown",
   "metadata": {},
   "source": [
    "Using only bigram features we have slightly improved our accuracy score about 0.01. Based on that we could think of adding unigram and bigram should increase the accuracy score more."
   ]
  },
  {
   "cell_type": "code",
   "execution_count": 130,
   "metadata": {},
   "outputs": [
    {
     "name": "stdout",
     "output_type": "stream",
     "text": [
      "Total tweets classified: 1183958\n",
      "Score: 0.795370054626\n",
      "Confusion matrix:\n",
      "[[486521 104805]\n",
      " [132142 460490]]\n"
     ]
    }
   ],
   "source": [
    "score, confusion = classify(training_tweets, test_tweets, (1, 2))\n",
    "\n",
    "print 'Total tweets classified: ' + str(len(training_tweets))\n",
    "print 'Score: ' +  str(score)\n",
    "print 'Confusion matrix:'\n",
    "print(confusion)"
   ]
  },
  {
   "cell_type": "markdown",
   "metadata": {},
   "source": [
    "And indeed, we increased the accuracy score about 0.02 compared to the baseline. \n",
    "\n",
    "---------------------------------------------\n",
    "**In this project we tried to show the basic way of classifying tweets into positive or\n",
    "negative category using Naive Bayes as baseline and how language models are related to the\n",
    "Naive Bayes and can produce better results. We could further improve our classifier by trying to\n",
    "extract more features from the tweets, trying different kinds of features, tuning the parameters of\n",
    "the naïve Bayes classifier, or trying another classifier all together.**"
   ]
  },
  {
   "cell_type": "code",
   "execution_count": null,
   "metadata": {},
   "outputs": [],
   "source": []
  }
 ],
 "metadata": {
  "kernelspec": {
   "display_name": "Python 3",
   "language": "python",
   "name": "python3"
  },
  "language_info": {
   "codemirror_mode": {
    "name": "ipython",
    "version": 3
   },
   "file_extension": ".py",
   "mimetype": "text/x-python",
   "name": "python",
   "nbconvert_exporter": "python",
   "pygments_lexer": "ipython3",
   "version": "3.7.4"
  }
 },
 "nbformat": 4,
 "nbformat_minor": 1
}
